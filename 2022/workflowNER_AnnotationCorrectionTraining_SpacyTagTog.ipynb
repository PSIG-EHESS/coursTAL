{
  "nbformat": 4,
  "nbformat_minor": 0,
  "metadata": {
    "colab": {
      "name": "workflowNER_AnnotationCorrectionTraining_SpacyTagTog.ipynb",
      "provenance": [],
      "collapsed_sections": []
    },
    "kernelspec": {
      "name": "python3",
      "display_name": "Python 3"
    },
    "language_info": {
      "name": "python"
    }
  },
  "cells": [
    {
      "cell_type": "markdown",
      "source": [
        "## Chaine de traitement en Python pour adapter le moteur de reconnaissance d'entités nommées de Spacy par entrainement. \n",
        "\n",
        "Il s'agit de :\n",
        "\n",
        "\n",
        "1.   annoter automatiquement en noms de lieux (LOC) et de personnes (PERS) un extrait du texte \"Bel Ami\" de Maupassant en s'appuyant sur le modèle pour le français \"fr_core_news_sm\" proposé par Spacy ;\n",
        "2.   transférer le texte annoté vers l'outil d'annotation TagTog via leur API REST afin de corriger manuellement les annotations créées automatiquement;\n",
        "3.   Corriger manuellement ces annotations en vue de créer un jeu  de données d'entrainement ;\n",
        "4.   Formatter et intégrer les annotations corrigées dans Spacy en tant que jeu de données d'entrainement ;\n",
        "5.  Initialiser un modèle qui sera entrainé de manière incrémentale à partir du jeu d'entrainement ;\n",
        "6.  Initialiser l'entrainement avec les paramètres définis dans le fichier .cfg et entrainement par le biais du CLI de Spacy ;\n",
        "7.  Test du nouveau modèle sur un autre extrait de \"Bel Ami\" de Maupassant.\n",
        "\n",
        "\n",
        "\n"
      ],
      "metadata": {
        "id": "htmoCRKpviSK"
      }
    },
    {
      "cell_type": "markdown",
      "source": [
        "**Prérequis : Installation ou mise à jour de Spacy et téléchargement du modèle**"
      ],
      "metadata": {
        "id": "CIH6rkzkxA1k"
      }
    },
    {
      "cell_type": "code",
      "execution_count": 2,
      "metadata": {
        "colab": {
          "base_uri": "https://localhost:8080/"
        },
        "id": "_myBICfwdlt0",
        "outputId": "c2e243a5-8c9d-4b1e-e8a3-c34c6b04f700"
      },
      "outputs": [
        {
          "output_type": "stream",
          "name": "stdout",
          "text": [
            "\u001b[1m\n",
            "============================== Info about spaCy ==============================\u001b[0m\n",
            "\n",
            "spaCy version    2.2.4                         \n",
            "Location         /usr/local/lib/python3.7/dist-packages/spacy\n",
            "Platform         Linux-5.4.144+-x86_64-with-Ubuntu-18.04-bionic\n",
            "Python version   3.7.12                        \n",
            "Models           en                            \n",
            "\n"
          ]
        }
      ],
      "source": [
        "!python -m spacy info"
      ]
    },
    {
      "cell_type": "code",
      "source": [
        "!pip install -U pip setuptools wheel\n",
        "!pip install -U spacy"
      ],
      "metadata": {
        "colab": {
          "base_uri": "https://localhost:8080/",
          "height": 1000
        },
        "id": "JEA7X_37drkv",
        "outputId": "7c81fe0f-d37f-409f-e81f-ee64d0341da7"
      },
      "execution_count": 3,
      "outputs": [
        {
          "output_type": "stream",
          "name": "stdout",
          "text": [
            "Requirement already satisfied: pip in /usr/local/lib/python3.7/dist-packages (21.1.3)\n",
            "Collecting pip\n",
            "  Downloading pip-22.0.3-py3-none-any.whl (2.1 MB)\n",
            "\u001b[K     |████████████████████████████████| 2.1 MB 14.1 MB/s \n",
            "\u001b[?25hRequirement already satisfied: setuptools in /usr/local/lib/python3.7/dist-packages (57.4.0)\n",
            "Collecting setuptools\n",
            "  Downloading setuptools-60.9.3-py3-none-any.whl (1.1 MB)\n",
            "\u001b[K     |████████████████████████████████| 1.1 MB 60.1 MB/s \n",
            "\u001b[?25hRequirement already satisfied: wheel in /usr/local/lib/python3.7/dist-packages (0.37.1)\n",
            "Installing collected packages: setuptools, pip\n",
            "  Attempting uninstall: setuptools\n",
            "    Found existing installation: setuptools 57.4.0\n",
            "    Uninstalling setuptools-57.4.0:\n",
            "      Successfully uninstalled setuptools-57.4.0\n",
            "  Attempting uninstall: pip\n",
            "    Found existing installation: pip 21.1.3\n",
            "    Uninstalling pip-21.1.3:\n",
            "      Successfully uninstalled pip-21.1.3\n",
            "\u001b[31mERROR: pip's dependency resolver does not currently take into account all the packages that are installed. This behaviour is the source of the following dependency conflicts.\n",
            "tensorflow 2.8.0 requires tf-estimator-nightly==2.8.0.dev2021122109, which is not installed.\n",
            "datascience 0.10.6 requires folium==0.2.1, but you have folium 0.8.3 which is incompatible.\u001b[0m\n",
            "Successfully installed pip-22.0.3 setuptools-60.9.3\n"
          ]
        },
        {
          "output_type": "display_data",
          "data": {
            "application/vnd.colab-display-data+json": {
              "pip_warning": {
                "packages": [
                  "pkg_resources"
                ]
              }
            }
          },
          "metadata": {}
        },
        {
          "output_type": "stream",
          "name": "stdout",
          "text": [
            "Requirement already satisfied: spacy in /usr/local/lib/python3.7/dist-packages (2.2.4)\n",
            "Collecting spacy\n",
            "  Downloading spacy-3.2.2-cp37-cp37m-manylinux_2_17_x86_64.manylinux2014_x86_64.whl (6.0 MB)\n",
            "\u001b[2K     \u001b[90m━━━━━━━━━━━━━━━━━━━━━━━━━━━━━━━━━━━━━━━━\u001b[0m \u001b[32m6.0/6.0 MB\u001b[0m \u001b[31m69.1 MB/s\u001b[0m eta \u001b[36m0:00:00\u001b[0m\n",
            "\u001b[?25hRequirement already satisfied: blis<0.8.0,>=0.4.0 in /usr/local/lib/python3.7/dist-packages (from spacy) (0.4.1)\n",
            "Requirement already satisfied: wasabi<1.1.0,>=0.8.1 in /usr/local/lib/python3.7/dist-packages (from spacy) (0.9.0)\n",
            "Collecting catalogue<2.1.0,>=2.0.6\n",
            "  Downloading catalogue-2.0.6-py3-none-any.whl (17 kB)\n",
            "Requirement already satisfied: preshed<3.1.0,>=3.0.2 in /usr/local/lib/python3.7/dist-packages (from spacy) (3.0.6)\n",
            "Requirement already satisfied: jinja2 in /usr/local/lib/python3.7/dist-packages (from spacy) (2.11.3)\n",
            "Collecting spacy-legacy<3.1.0,>=3.0.8\n",
            "  Downloading spacy_legacy-3.0.8-py2.py3-none-any.whl (14 kB)\n",
            "Requirement already satisfied: requests<3.0.0,>=2.13.0 in /usr/local/lib/python3.7/dist-packages (from spacy) (2.23.0)\n",
            "Requirement already satisfied: typing-extensions<4.0.0.0,>=3.7.4 in /usr/local/lib/python3.7/dist-packages (from spacy) (3.10.0.2)\n",
            "Collecting typer<0.5.0,>=0.3.0\n",
            "  Downloading typer-0.4.0-py3-none-any.whl (27 kB)\n",
            "Collecting srsly<3.0.0,>=2.4.1\n",
            "  Downloading srsly-2.4.2-cp37-cp37m-manylinux_2_17_x86_64.manylinux2014_x86_64.whl (451 kB)\n",
            "\u001b[2K     \u001b[90m━━━━━━━━━━━━━━━━━━━━━━━━━━━━━━━━━━━━━━\u001b[0m \u001b[32m452.0/452.0 KB\u001b[0m \u001b[31m33.8 MB/s\u001b[0m eta \u001b[36m0:00:00\u001b[0m\n",
            "\u001b[?25hRequirement already satisfied: packaging>=20.0 in /usr/local/lib/python3.7/dist-packages (from spacy) (21.3)\n",
            "Requirement already satisfied: murmurhash<1.1.0,>=0.28.0 in /usr/local/lib/python3.7/dist-packages (from spacy) (1.0.6)\n",
            "Collecting thinc<8.1.0,>=8.0.12\n",
            "  Downloading thinc-8.0.13-cp37-cp37m-manylinux_2_17_x86_64.manylinux2014_x86_64.whl (628 kB)\n",
            "\u001b[2K     \u001b[90m━━━━━━━━━━━━━━━━━━━━━━━━━━━━━━━━━━━━━━\u001b[0m \u001b[32m628.2/628.2 KB\u001b[0m \u001b[31m42.7 MB/s\u001b[0m eta \u001b[36m0:00:00\u001b[0m\n",
            "\u001b[?25hRequirement already satisfied: numpy>=1.15.0 in /usr/local/lib/python3.7/dist-packages (from spacy) (1.21.5)\n",
            "Requirement already satisfied: setuptools in /usr/local/lib/python3.7/dist-packages (from spacy) (60.9.3)\n",
            "Collecting pydantic!=1.8,!=1.8.1,<1.9.0,>=1.7.4\n",
            "  Downloading pydantic-1.8.2-cp37-cp37m-manylinux2014_x86_64.whl (10.1 MB)\n",
            "\u001b[2K     \u001b[90m━━━━━━━━━━━━━━━━━━━━━━━━━━━━━━━━━━━━━━━━\u001b[0m \u001b[32m10.1/10.1 MB\u001b[0m \u001b[31m69.4 MB/s\u001b[0m eta \u001b[36m0:00:00\u001b[0m\n",
            "\u001b[?25hCollecting spacy-loggers<2.0.0,>=1.0.0\n",
            "  Downloading spacy_loggers-1.0.1-py3-none-any.whl (7.0 kB)\n",
            "Requirement already satisfied: tqdm<5.0.0,>=4.38.0 in /usr/local/lib/python3.7/dist-packages (from spacy) (4.62.3)\n",
            "Collecting pathy>=0.3.5\n",
            "  Downloading pathy-0.6.1-py3-none-any.whl (42 kB)\n",
            "\u001b[2K     \u001b[90m━━━━━━━━━━━━━━━━━━━━━━━━━━━━━━━━━━━━━━━━\u001b[0m \u001b[32m42.8/42.8 KB\u001b[0m \u001b[31m5.3 MB/s\u001b[0m eta \u001b[36m0:00:00\u001b[0m\n",
            "\u001b[?25hRequirement already satisfied: cymem<2.1.0,>=2.0.2 in /usr/local/lib/python3.7/dist-packages (from spacy) (2.0.6)\n",
            "Collecting langcodes<4.0.0,>=3.2.0\n",
            "  Downloading langcodes-3.3.0-py3-none-any.whl (181 kB)\n",
            "\u001b[2K     \u001b[90m━━━━━━━━━━━━━━━━━━━━━━━━━━━━━━━━━━━━━━\u001b[0m \u001b[32m181.6/181.6 KB\u001b[0m \u001b[31m19.7 MB/s\u001b[0m eta \u001b[36m0:00:00\u001b[0m\n",
            "\u001b[?25hRequirement already satisfied: zipp>=0.5 in /usr/local/lib/python3.7/dist-packages (from catalogue<2.1.0,>=2.0.6->spacy) (3.7.0)\n",
            "Requirement already satisfied: pyparsing!=3.0.5,>=2.0.2 in /usr/local/lib/python3.7/dist-packages (from packaging>=20.0->spacy) (3.0.7)\n",
            "Requirement already satisfied: smart-open<6.0.0,>=5.0.0 in /usr/local/lib/python3.7/dist-packages (from pathy>=0.3.5->spacy) (5.2.1)\n",
            "Requirement already satisfied: urllib3!=1.25.0,!=1.25.1,<1.26,>=1.21.1 in /usr/local/lib/python3.7/dist-packages (from requests<3.0.0,>=2.13.0->spacy) (1.24.3)\n",
            "Requirement already satisfied: certifi>=2017.4.17 in /usr/local/lib/python3.7/dist-packages (from requests<3.0.0,>=2.13.0->spacy) (2021.10.8)\n",
            "Requirement already satisfied: chardet<4,>=3.0.2 in /usr/local/lib/python3.7/dist-packages (from requests<3.0.0,>=2.13.0->spacy) (3.0.4)\n",
            "Requirement already satisfied: idna<3,>=2.5 in /usr/local/lib/python3.7/dist-packages (from requests<3.0.0,>=2.13.0->spacy) (2.10)\n",
            "Requirement already satisfied: click<9.0.0,>=7.1.1 in /usr/local/lib/python3.7/dist-packages (from typer<0.5.0,>=0.3.0->spacy) (7.1.2)\n",
            "Requirement already satisfied: MarkupSafe>=0.23 in /usr/local/lib/python3.7/dist-packages (from jinja2->spacy) (2.0.1)\n",
            "Installing collected packages: typer, spacy-loggers, spacy-legacy, pydantic, langcodes, catalogue, srsly, pathy, thinc, spacy\n",
            "  Attempting uninstall: catalogue\n",
            "    Found existing installation: catalogue 1.0.0\n",
            "    Uninstalling catalogue-1.0.0:\n",
            "      Successfully uninstalled catalogue-1.0.0\n",
            "  Attempting uninstall: srsly\n",
            "    Found existing installation: srsly 1.0.5\n",
            "    Uninstalling srsly-1.0.5:\n",
            "      Successfully uninstalled srsly-1.0.5\n",
            "  Attempting uninstall: thinc\n",
            "    Found existing installation: thinc 7.4.0\n",
            "    Uninstalling thinc-7.4.0:\n",
            "      Successfully uninstalled thinc-7.4.0\n",
            "  Attempting uninstall: spacy\n",
            "    Found existing installation: spacy 2.2.4\n",
            "    Uninstalling spacy-2.2.4:\n",
            "      Successfully uninstalled spacy-2.2.4\n",
            "Successfully installed catalogue-2.0.6 langcodes-3.3.0 pathy-0.6.1 pydantic-1.8.2 spacy-3.2.2 spacy-legacy-3.0.8 spacy-loggers-1.0.1 srsly-2.4.2 thinc-8.0.13 typer-0.4.0\n",
            "\u001b[33mWARNING: Running pip as the 'root' user can result in broken permissions and conflicting behaviour with the system package manager. It is recommended to use a virtual environment instead: https://pip.pypa.io/warnings/venv\u001b[0m\u001b[33m\n",
            "\u001b[0m"
          ]
        }
      ]
    },
    {
      "cell_type": "code",
      "source": [
        "!python -m spacy download fr_core_news_sm  "
      ],
      "metadata": {
        "colab": {
          "base_uri": "https://localhost:8080/"
        },
        "id": "jMJpmXfgefSf",
        "outputId": "853f068e-2bec-4b1e-fd3a-d65ddd6bc4b4"
      },
      "execution_count": 4,
      "outputs": [
        {
          "output_type": "stream",
          "name": "stdout",
          "text": [
            "Collecting fr-core-news-sm==3.2.0\n",
            "  Downloading https://github.com/explosion/spacy-models/releases/download/fr_core_news_sm-3.2.0/fr_core_news_sm-3.2.0-py3-none-any.whl (17.4 MB)\n",
            "\u001b[2K     \u001b[90m━━━━━━━━━━━━━━━━━━━━━━━━━━━━━━━━━━━━━━━━\u001b[0m \u001b[32m17.4/17.4 MB\u001b[0m \u001b[31m22.4 MB/s\u001b[0m eta \u001b[36m0:00:00\u001b[0m\n",
            "\u001b[?25hRequirement already satisfied: spacy<3.3.0,>=3.2.0 in /usr/local/lib/python3.7/dist-packages (from fr-core-news-sm==3.2.0) (3.2.2)\n",
            "Requirement already satisfied: blis<0.8.0,>=0.4.0 in /usr/local/lib/python3.7/dist-packages (from spacy<3.3.0,>=3.2.0->fr-core-news-sm==3.2.0) (0.4.1)\n",
            "Requirement already satisfied: setuptools in /usr/local/lib/python3.7/dist-packages (from spacy<3.3.0,>=3.2.0->fr-core-news-sm==3.2.0) (60.9.3)\n",
            "Requirement already satisfied: typer<0.5.0,>=0.3.0 in /usr/local/lib/python3.7/dist-packages (from spacy<3.3.0,>=3.2.0->fr-core-news-sm==3.2.0) (0.4.0)\n",
            "Requirement already satisfied: wasabi<1.1.0,>=0.8.1 in /usr/local/lib/python3.7/dist-packages (from spacy<3.3.0,>=3.2.0->fr-core-news-sm==3.2.0) (0.9.0)\n",
            "Requirement already satisfied: thinc<8.1.0,>=8.0.12 in /usr/local/lib/python3.7/dist-packages (from spacy<3.3.0,>=3.2.0->fr-core-news-sm==3.2.0) (8.0.13)\n",
            "Requirement already satisfied: numpy>=1.15.0 in /usr/local/lib/python3.7/dist-packages (from spacy<3.3.0,>=3.2.0->fr-core-news-sm==3.2.0) (1.21.5)\n",
            "Requirement already satisfied: murmurhash<1.1.0,>=0.28.0 in /usr/local/lib/python3.7/dist-packages (from spacy<3.3.0,>=3.2.0->fr-core-news-sm==3.2.0) (1.0.6)\n",
            "Requirement already satisfied: pathy>=0.3.5 in /usr/local/lib/python3.7/dist-packages (from spacy<3.3.0,>=3.2.0->fr-core-news-sm==3.2.0) (0.6.1)\n",
            "Requirement already satisfied: tqdm<5.0.0,>=4.38.0 in /usr/local/lib/python3.7/dist-packages (from spacy<3.3.0,>=3.2.0->fr-core-news-sm==3.2.0) (4.62.3)\n",
            "Requirement already satisfied: spacy-loggers<2.0.0,>=1.0.0 in /usr/local/lib/python3.7/dist-packages (from spacy<3.3.0,>=3.2.0->fr-core-news-sm==3.2.0) (1.0.1)\n",
            "Requirement already satisfied: srsly<3.0.0,>=2.4.1 in /usr/local/lib/python3.7/dist-packages (from spacy<3.3.0,>=3.2.0->fr-core-news-sm==3.2.0) (2.4.2)\n",
            "Requirement already satisfied: requests<3.0.0,>=2.13.0 in /usr/local/lib/python3.7/dist-packages (from spacy<3.3.0,>=3.2.0->fr-core-news-sm==3.2.0) (2.23.0)\n",
            "Requirement already satisfied: catalogue<2.1.0,>=2.0.6 in /usr/local/lib/python3.7/dist-packages (from spacy<3.3.0,>=3.2.0->fr-core-news-sm==3.2.0) (2.0.6)\n",
            "Requirement already satisfied: jinja2 in /usr/local/lib/python3.7/dist-packages (from spacy<3.3.0,>=3.2.0->fr-core-news-sm==3.2.0) (2.11.3)\n",
            "Requirement already satisfied: cymem<2.1.0,>=2.0.2 in /usr/local/lib/python3.7/dist-packages (from spacy<3.3.0,>=3.2.0->fr-core-news-sm==3.2.0) (2.0.6)\n",
            "Requirement already satisfied: spacy-legacy<3.1.0,>=3.0.8 in /usr/local/lib/python3.7/dist-packages (from spacy<3.3.0,>=3.2.0->fr-core-news-sm==3.2.0) (3.0.8)\n",
            "Requirement already satisfied: typing-extensions<4.0.0.0,>=3.7.4 in /usr/local/lib/python3.7/dist-packages (from spacy<3.3.0,>=3.2.0->fr-core-news-sm==3.2.0) (3.10.0.2)\n",
            "Requirement already satisfied: packaging>=20.0 in /usr/local/lib/python3.7/dist-packages (from spacy<3.3.0,>=3.2.0->fr-core-news-sm==3.2.0) (21.3)\n",
            "Requirement already satisfied: langcodes<4.0.0,>=3.2.0 in /usr/local/lib/python3.7/dist-packages (from spacy<3.3.0,>=3.2.0->fr-core-news-sm==3.2.0) (3.3.0)\n",
            "Requirement already satisfied: preshed<3.1.0,>=3.0.2 in /usr/local/lib/python3.7/dist-packages (from spacy<3.3.0,>=3.2.0->fr-core-news-sm==3.2.0) (3.0.6)\n",
            "Requirement already satisfied: pydantic!=1.8,!=1.8.1,<1.9.0,>=1.7.4 in /usr/local/lib/python3.7/dist-packages (from spacy<3.3.0,>=3.2.0->fr-core-news-sm==3.2.0) (1.8.2)\n",
            "Requirement already satisfied: zipp>=0.5 in /usr/local/lib/python3.7/dist-packages (from catalogue<2.1.0,>=2.0.6->spacy<3.3.0,>=3.2.0->fr-core-news-sm==3.2.0) (3.7.0)\n",
            "Requirement already satisfied: pyparsing!=3.0.5,>=2.0.2 in /usr/local/lib/python3.7/dist-packages (from packaging>=20.0->spacy<3.3.0,>=3.2.0->fr-core-news-sm==3.2.0) (3.0.7)\n",
            "Requirement already satisfied: smart-open<6.0.0,>=5.0.0 in /usr/local/lib/python3.7/dist-packages (from pathy>=0.3.5->spacy<3.3.0,>=3.2.0->fr-core-news-sm==3.2.0) (5.2.1)\n",
            "Requirement already satisfied: idna<3,>=2.5 in /usr/local/lib/python3.7/dist-packages (from requests<3.0.0,>=2.13.0->spacy<3.3.0,>=3.2.0->fr-core-news-sm==3.2.0) (2.10)\n",
            "Requirement already satisfied: certifi>=2017.4.17 in /usr/local/lib/python3.7/dist-packages (from requests<3.0.0,>=2.13.0->spacy<3.3.0,>=3.2.0->fr-core-news-sm==3.2.0) (2021.10.8)\n",
            "Requirement already satisfied: urllib3!=1.25.0,!=1.25.1,<1.26,>=1.21.1 in /usr/local/lib/python3.7/dist-packages (from requests<3.0.0,>=2.13.0->spacy<3.3.0,>=3.2.0->fr-core-news-sm==3.2.0) (1.24.3)\n",
            "Requirement already satisfied: chardet<4,>=3.0.2 in /usr/local/lib/python3.7/dist-packages (from requests<3.0.0,>=2.13.0->spacy<3.3.0,>=3.2.0->fr-core-news-sm==3.2.0) (3.0.4)\n",
            "Requirement already satisfied: click<9.0.0,>=7.1.1 in /usr/local/lib/python3.7/dist-packages (from typer<0.5.0,>=0.3.0->spacy<3.3.0,>=3.2.0->fr-core-news-sm==3.2.0) (7.1.2)\n",
            "Requirement already satisfied: MarkupSafe>=0.23 in /usr/local/lib/python3.7/dist-packages (from jinja2->spacy<3.3.0,>=3.2.0->fr-core-news-sm==3.2.0) (2.0.1)\n",
            "Installing collected packages: fr-core-news-sm\n",
            "  Attempting uninstall: fr-core-news-sm\n",
            "    Found existing installation: fr-core-news-sm 2.2.5\n",
            "    Uninstalling fr-core-news-sm-2.2.5:\n",
            "      Successfully uninstalled fr-core-news-sm-2.2.5\n",
            "Successfully installed fr-core-news-sm-3.2.0\n",
            "\u001b[33mWARNING: Running pip as the 'root' user can result in broken permissions and conflicting behaviour with the system package manager. It is recommended to use a virtual environment instead: https://pip.pypa.io/warnings/venv\u001b[0m\u001b[33m\n",
            "\u001b[0m\u001b[38;5;2m✔ Download and installation successful\u001b[0m\n",
            "You can now load the package via spacy.load('fr_core_news_sm')\n"
          ]
        }
      ]
    },
    {
      "cell_type": "markdown",
      "source": [
        "**Chargement d'un extrait du premier chapiture de Bel Ami de Maupassant.**\n",
        "A télécharger et enregistrer sur votre ordinateur à partir de : \n",
        "https://github.com/cvbrandoe/coursTAL/blob/master/2022/belAmi_01-01.txt "
      ],
      "metadata": {
        "id": "Hx4PNnqVxTWx"
      }
    },
    {
      "cell_type": "code",
      "source": [
        "from google.colab import files\n",
        "uploaded = files.upload()"
      ],
      "metadata": {
        "colab": {
          "resources": {
            "http://localhost:8080/nbextensions/google.colab/files.js": {
              "data": "Ly8gQ29weXJpZ2h0IDIwMTcgR29vZ2xlIExMQwovLwovLyBMaWNlbnNlZCB1bmRlciB0aGUgQXBhY2hlIExpY2Vuc2UsIFZlcnNpb24gMi4wICh0aGUgIkxpY2Vuc2UiKTsKLy8geW91IG1heSBub3QgdXNlIHRoaXMgZmlsZSBleGNlcHQgaW4gY29tcGxpYW5jZSB3aXRoIHRoZSBMaWNlbnNlLgovLyBZb3UgbWF5IG9idGFpbiBhIGNvcHkgb2YgdGhlIExpY2Vuc2UgYXQKLy8KLy8gICAgICBodHRwOi8vd3d3LmFwYWNoZS5vcmcvbGljZW5zZXMvTElDRU5TRS0yLjAKLy8KLy8gVW5sZXNzIHJlcXVpcmVkIGJ5IGFwcGxpY2FibGUgbGF3IG9yIGFncmVlZCB0byBpbiB3cml0aW5nLCBzb2Z0d2FyZQovLyBkaXN0cmlidXRlZCB1bmRlciB0aGUgTGljZW5zZSBpcyBkaXN0cmlidXRlZCBvbiBhbiAiQVMgSVMiIEJBU0lTLAovLyBXSVRIT1VUIFdBUlJBTlRJRVMgT1IgQ09ORElUSU9OUyBPRiBBTlkgS0lORCwgZWl0aGVyIGV4cHJlc3Mgb3IgaW1wbGllZC4KLy8gU2VlIHRoZSBMaWNlbnNlIGZvciB0aGUgc3BlY2lmaWMgbGFuZ3VhZ2UgZ292ZXJuaW5nIHBlcm1pc3Npb25zIGFuZAovLyBsaW1pdGF0aW9ucyB1bmRlciB0aGUgTGljZW5zZS4KCi8qKgogKiBAZmlsZW92ZXJ2aWV3IEhlbHBlcnMgZm9yIGdvb2dsZS5jb2xhYiBQeXRob24gbW9kdWxlLgogKi8KKGZ1bmN0aW9uKHNjb3BlKSB7CmZ1bmN0aW9uIHNwYW4odGV4dCwgc3R5bGVBdHRyaWJ1dGVzID0ge30pIHsKICBjb25zdCBlbGVtZW50ID0gZG9jdW1lbnQuY3JlYXRlRWxlbWVudCgnc3BhbicpOwogIGVsZW1lbnQudGV4dENvbnRlbnQgPSB0ZXh0OwogIGZvciAoY29uc3Qga2V5IG9mIE9iamVjdC5rZXlzKHN0eWxlQXR0cmlidXRlcykpIHsKICAgIGVsZW1lbnQuc3R5bGVba2V5XSA9IHN0eWxlQXR0cmlidXRlc1trZXldOwogIH0KICByZXR1cm4gZWxlbWVudDsKfQoKLy8gTWF4IG51bWJlciBvZiBieXRlcyB3aGljaCB3aWxsIGJlIHVwbG9hZGVkIGF0IGEgdGltZS4KY29uc3QgTUFYX1BBWUxPQURfU0laRSA9IDEwMCAqIDEwMjQ7CgpmdW5jdGlvbiBfdXBsb2FkRmlsZXMoaW5wdXRJZCwgb3V0cHV0SWQpIHsKICBjb25zdCBzdGVwcyA9IHVwbG9hZEZpbGVzU3RlcChpbnB1dElkLCBvdXRwdXRJZCk7CiAgY29uc3Qgb3V0cHV0RWxlbWVudCA9IGRvY3VtZW50LmdldEVsZW1lbnRCeUlkKG91dHB1dElkKTsKICAvLyBDYWNoZSBzdGVwcyBvbiB0aGUgb3V0cHV0RWxlbWVudCB0byBtYWtlIGl0IGF2YWlsYWJsZSBmb3IgdGhlIG5leHQgY2FsbAogIC8vIHRvIHVwbG9hZEZpbGVzQ29udGludWUgZnJvbSBQeXRob24uCiAgb3V0cHV0RWxlbWVudC5zdGVwcyA9IHN0ZXBzOwoKICByZXR1cm4gX3VwbG9hZEZpbGVzQ29udGludWUob3V0cHV0SWQpOwp9CgovLyBUaGlzIGlzIHJvdWdobHkgYW4gYXN5bmMgZ2VuZXJhdG9yIChub3Qgc3VwcG9ydGVkIGluIHRoZSBicm93c2VyIHlldCksCi8vIHdoZXJlIHRoZXJlIGFyZSBtdWx0aXBsZSBhc3luY2hyb25vdXMgc3RlcHMgYW5kIHRoZSBQeXRob24gc2lkZSBpcyBnb2luZwovLyB0byBwb2xsIGZvciBjb21wbGV0aW9uIG9mIGVhY2ggc3RlcC4KLy8gVGhpcyB1c2VzIGEgUHJvbWlzZSB0byBibG9jayB0aGUgcHl0aG9uIHNpZGUgb24gY29tcGxldGlvbiBvZiBlYWNoIHN0ZXAsCi8vIHRoZW4gcGFzc2VzIHRoZSByZXN1bHQgb2YgdGhlIHByZXZpb3VzIHN0ZXAgYXMgdGhlIGlucHV0IHRvIHRoZSBuZXh0IHN0ZXAuCmZ1bmN0aW9uIF91cGxvYWRGaWxlc0NvbnRpbnVlKG91dHB1dElkKSB7CiAgY29uc3Qgb3V0cHV0RWxlbWVudCA9IGRvY3VtZW50LmdldEVsZW1lbnRCeUlkKG91dHB1dElkKTsKICBjb25zdCBzdGVwcyA9IG91dHB1dEVsZW1lbnQuc3RlcHM7CgogIGNvbnN0IG5leHQgPSBzdGVwcy5uZXh0KG91dHB1dEVsZW1lbnQubGFzdFByb21pc2VWYWx1ZSk7CiAgcmV0dXJuIFByb21pc2UucmVzb2x2ZShuZXh0LnZhbHVlLnByb21pc2UpLnRoZW4oKHZhbHVlKSA9PiB7CiAgICAvLyBDYWNoZSB0aGUgbGFzdCBwcm9taXNlIHZhbHVlIHRvIG1ha2UgaXQgYXZhaWxhYmxlIHRvIHRoZSBuZXh0CiAgICAvLyBzdGVwIG9mIHRoZSBnZW5lcmF0b3IuCiAgICBvdXRwdXRFbGVtZW50Lmxhc3RQcm9taXNlVmFsdWUgPSB2YWx1ZTsKICAgIHJldHVybiBuZXh0LnZhbHVlLnJlc3BvbnNlOwogIH0pOwp9CgovKioKICogR2VuZXJhdG9yIGZ1bmN0aW9uIHdoaWNoIGlzIGNhbGxlZCBiZXR3ZWVuIGVhY2ggYXN5bmMgc3RlcCBvZiB0aGUgdXBsb2FkCiAqIHByb2Nlc3MuCiAqIEBwYXJhbSB7c3RyaW5nfSBpbnB1dElkIEVsZW1lbnQgSUQgb2YgdGhlIGlucHV0IGZpbGUgcGlja2VyIGVsZW1lbnQuCiAqIEBwYXJhbSB7c3RyaW5nfSBvdXRwdXRJZCBFbGVtZW50IElEIG9mIHRoZSBvdXRwdXQgZGlzcGxheS4KICogQHJldHVybiB7IUl0ZXJhYmxlPCFPYmplY3Q+fSBJdGVyYWJsZSBvZiBuZXh0IHN0ZXBzLgogKi8KZnVuY3Rpb24qIHVwbG9hZEZpbGVzU3RlcChpbnB1dElkLCBvdXRwdXRJZCkgewogIGNvbnN0IGlucHV0RWxlbWVudCA9IGRvY3VtZW50LmdldEVsZW1lbnRCeUlkKGlucHV0SWQpOwogIGlucHV0RWxlbWVudC5kaXNhYmxlZCA9IGZhbHNlOwoKICBjb25zdCBvdXRwdXRFbGVtZW50ID0gZG9jdW1lbnQuZ2V0RWxlbWVudEJ5SWQob3V0cHV0SWQpOwogIG91dHB1dEVsZW1lbnQuaW5uZXJIVE1MID0gJyc7CgogIGNvbnN0IHBpY2tlZFByb21pc2UgPSBuZXcgUHJvbWlzZSgocmVzb2x2ZSkgPT4gewogICAgaW5wdXRFbGVtZW50LmFkZEV2ZW50TGlzdGVuZXIoJ2NoYW5nZScsIChlKSA9PiB7CiAgICAgIHJlc29sdmUoZS50YXJnZXQuZmlsZXMpOwogICAgfSk7CiAgfSk7CgogIGNvbnN0IGNhbmNlbCA9IGRvY3VtZW50LmNyZWF0ZUVsZW1lbnQoJ2J1dHRvbicpOwogIGlucHV0RWxlbWVudC5wYXJlbnRFbGVtZW50LmFwcGVuZENoaWxkKGNhbmNlbCk7CiAgY2FuY2VsLnRleHRDb250ZW50ID0gJ0NhbmNlbCB1cGxvYWQnOwogIGNvbnN0IGNhbmNlbFByb21pc2UgPSBuZXcgUHJvbWlzZSgocmVzb2x2ZSkgPT4gewogICAgY2FuY2VsLm9uY2xpY2sgPSAoKSA9PiB7CiAgICAgIHJlc29sdmUobnVsbCk7CiAgICB9OwogIH0pOwoKICAvLyBXYWl0IGZvciB0aGUgdXNlciB0byBwaWNrIHRoZSBmaWxlcy4KICBjb25zdCBmaWxlcyA9IHlpZWxkIHsKICAgIHByb21pc2U6IFByb21pc2UucmFjZShbcGlja2VkUHJvbWlzZSwgY2FuY2VsUHJvbWlzZV0pLAogICAgcmVzcG9uc2U6IHsKICAgICAgYWN0aW9uOiAnc3RhcnRpbmcnLAogICAgfQogIH07CgogIGNhbmNlbC5yZW1vdmUoKTsKCiAgLy8gRGlzYWJsZSB0aGUgaW5wdXQgZWxlbWVudCBzaW5jZSBmdXJ0aGVyIHBpY2tzIGFyZSBub3QgYWxsb3dlZC4KICBpbnB1dEVsZW1lbnQuZGlzYWJsZWQgPSB0cnVlOwoKICBpZiAoIWZpbGVzKSB7CiAgICByZXR1cm4gewogICAgICByZXNwb25zZTogewogICAgICAgIGFjdGlvbjogJ2NvbXBsZXRlJywKICAgICAgfQogICAgfTsKICB9CgogIGZvciAoY29uc3QgZmlsZSBvZiBmaWxlcykgewogICAgY29uc3QgbGkgPSBkb2N1bWVudC5jcmVhdGVFbGVtZW50KCdsaScpOwogICAgbGkuYXBwZW5kKHNwYW4oZmlsZS5uYW1lLCB7Zm9udFdlaWdodDogJ2JvbGQnfSkpOwogICAgbGkuYXBwZW5kKHNwYW4oCiAgICAgICAgYCgke2ZpbGUudHlwZSB8fCAnbi9hJ30pIC0gJHtmaWxlLnNpemV9IGJ5dGVzLCBgICsKICAgICAgICBgbGFzdCBtb2RpZmllZDogJHsKICAgICAgICAgICAgZmlsZS5sYXN0TW9kaWZpZWREYXRlID8gZmlsZS5sYXN0TW9kaWZpZWREYXRlLnRvTG9jYWxlRGF0ZVN0cmluZygpIDoKICAgICAgICAgICAgICAgICAgICAgICAgICAgICAgICAgICAgJ24vYSd9IC0gYCkpOwogICAgY29uc3QgcGVyY2VudCA9IHNwYW4oJzAlIGRvbmUnKTsKICAgIGxpLmFwcGVuZENoaWxkKHBlcmNlbnQpOwoKICAgIG91dHB1dEVsZW1lbnQuYXBwZW5kQ2hpbGQobGkpOwoKICAgIGNvbnN0IGZpbGVEYXRhUHJvbWlzZSA9IG5ldyBQcm9taXNlKChyZXNvbHZlKSA9PiB7CiAgICAgIGNvbnN0IHJlYWRlciA9IG5ldyBGaWxlUmVhZGVyKCk7CiAgICAgIHJlYWRlci5vbmxvYWQgPSAoZSkgPT4gewogICAgICAgIHJlc29sdmUoZS50YXJnZXQucmVzdWx0KTsKICAgICAgfTsKICAgICAgcmVhZGVyLnJlYWRBc0FycmF5QnVmZmVyKGZpbGUpOwogICAgfSk7CiAgICAvLyBXYWl0IGZvciB0aGUgZGF0YSB0byBiZSByZWFkeS4KICAgIGxldCBmaWxlRGF0YSA9IHlpZWxkIHsKICAgICAgcHJvbWlzZTogZmlsZURhdGFQcm9taXNlLAogICAgICByZXNwb25zZTogewogICAgICAgIGFjdGlvbjogJ2NvbnRpbnVlJywKICAgICAgfQogICAgfTsKCiAgICAvLyBVc2UgYSBjaHVua2VkIHNlbmRpbmcgdG8gYXZvaWQgbWVzc2FnZSBzaXplIGxpbWl0cy4gU2VlIGIvNjIxMTU2NjAuCiAgICBsZXQgcG9zaXRpb24gPSAwOwogICAgZG8gewogICAgICBjb25zdCBsZW5ndGggPSBNYXRoLm1pbihmaWxlRGF0YS5ieXRlTGVuZ3RoIC0gcG9zaXRpb24sIE1BWF9QQVlMT0FEX1NJWkUpOwogICAgICBjb25zdCBjaHVuayA9IG5ldyBVaW50OEFycmF5KGZpbGVEYXRhLCBwb3NpdGlvbiwgbGVuZ3RoKTsKICAgICAgcG9zaXRpb24gKz0gbGVuZ3RoOwoKICAgICAgY29uc3QgYmFzZTY0ID0gYnRvYShTdHJpbmcuZnJvbUNoYXJDb2RlLmFwcGx5KG51bGwsIGNodW5rKSk7CiAgICAgIHlpZWxkIHsKICAgICAgICByZXNwb25zZTogewogICAgICAgICAgYWN0aW9uOiAnYXBwZW5kJywKICAgICAgICAgIGZpbGU6IGZpbGUubmFtZSwKICAgICAgICAgIGRhdGE6IGJhc2U2NCwKICAgICAgICB9LAogICAgICB9OwoKICAgICAgbGV0IHBlcmNlbnREb25lID0gZmlsZURhdGEuYnl0ZUxlbmd0aCA9PT0gMCA/CiAgICAgICAgICAxMDAgOgogICAgICAgICAgTWF0aC5yb3VuZCgocG9zaXRpb24gLyBmaWxlRGF0YS5ieXRlTGVuZ3RoKSAqIDEwMCk7CiAgICAgIHBlcmNlbnQudGV4dENvbnRlbnQgPSBgJHtwZXJjZW50RG9uZX0lIGRvbmVgOwoKICAgIH0gd2hpbGUgKHBvc2l0aW9uIDwgZmlsZURhdGEuYnl0ZUxlbmd0aCk7CiAgfQoKICAvLyBBbGwgZG9uZS4KICB5aWVsZCB7CiAgICByZXNwb25zZTogewogICAgICBhY3Rpb246ICdjb21wbGV0ZScsCiAgICB9CiAgfTsKfQoKc2NvcGUuZ29vZ2xlID0gc2NvcGUuZ29vZ2xlIHx8IHt9OwpzY29wZS5nb29nbGUuY29sYWIgPSBzY29wZS5nb29nbGUuY29sYWIgfHwge307CnNjb3BlLmdvb2dsZS5jb2xhYi5fZmlsZXMgPSB7CiAgX3VwbG9hZEZpbGVzLAogIF91cGxvYWRGaWxlc0NvbnRpbnVlLAp9Owp9KShzZWxmKTsK",
              "ok": true,
              "headers": [
                [
                  "content-type",
                  "application/javascript"
                ]
              ],
              "status": 200,
              "status_text": ""
            }
          },
          "base_uri": "https://localhost:8080/",
          "height": 73
        },
        "id": "VKS7kTaf1xzG",
        "outputId": "04f39ee7-5fc3-48ff-9f6d-1d9133bfc3fe"
      },
      "execution_count": 7,
      "outputs": [
        {
          "output_type": "display_data",
          "data": {
            "text/html": [
              "\n",
              "     <input type=\"file\" id=\"files-550d9973-a68f-42f7-a535-6a29b8401280\" name=\"files[]\" multiple disabled\n",
              "        style=\"border:none\" />\n",
              "     <output id=\"result-550d9973-a68f-42f7-a535-6a29b8401280\">\n",
              "      Upload widget is only available when the cell has been executed in the\n",
              "      current browser session. Please rerun this cell to enable.\n",
              "      </output>\n",
              "      <script src=\"/nbextensions/google.colab/files.js\"></script> "
            ],
            "text/plain": [
              "<IPython.core.display.HTML object>"
            ]
          },
          "metadata": {}
        },
        {
          "output_type": "stream",
          "name": "stdout",
          "text": [
            "Saving belAmi_01-01.txt to belAmi_01-01.txt\n"
          ]
        }
      ]
    },
    {
      "cell_type": "markdown",
      "source": [
        "**1. Annotation automatiquement en noms de lieux (LOC) et de personnes (PERS) du texte en entrée en s'appuyant sur le modèle pour le français \"fr_core_news_sm\" proposé par Spacy**"
      ],
      "metadata": {
        "id": "Myo_fio_ydfy"
      }
    },
    {
      "cell_type": "code",
      "source": [
        "import spacy\n",
        "import json\n",
        "import requests\n",
        "import os\n",
        "\n",
        "def get_class_id(label):\n",
        "  \"\"\"\n",
        "  Translates the spaCy label id into the tagtog entity type id\n",
        "  - label: spaCy label id\n",
        "  \"\"\"\n",
        "  choices = {'PER': 'e_1', 'LOC': 'e_2', 'GPE': 'e_2'}\n",
        "  return choices.get(label, None)\n",
        "\n",
        "def get_entities(spans, pipeline):\n",
        "  \"\"\"\n",
        "  Translates a tuple of named entity Span objects (https://spacy.io/api/span) into a \n",
        "  list of tagtog entities (https://docs.tagtog.net/anndoc.html#ann-json). Each entity is\n",
        "  defined by the entity type ID (classId), the part name where the annotation is (part),\n",
        "  the entity offsets and the confidence (annotation status, who created it and probabilty).\n",
        "  - spans: the named entities in the spaCy doc\n",
        "  - pipeline: trained pipeline name\n",
        "  \"\"\"\n",
        "  default_prob = 1\n",
        "  default_part_id = 's1v1'\n",
        "  default_state = 'pre-added'\n",
        "  tagtog_entities = []\n",
        "  for span in spans:\n",
        "    class_id = get_class_id(span.label_)\n",
        "    if class_id is not None:\n",
        "      tagtog_entities.append( {\n",
        "        'classId': class_id,\n",
        "        'part': default_part_id,\n",
        "        'offsets':[{'start': span.start_char, 'text': span.text}],\n",
        "        'confidence': {'state': default_state,'who': ['ml:' + pipeline],'prob': default_prob},\n",
        "        'fields':{},\n",
        "        # this is related to the kb_id (knowledge base ID) field from the Span spaCy object\n",
        "        'normalizations': {}} )\n",
        "  return tagtog_entities\n"
      ],
      "metadata": {
        "id": "UiZpEoo-d9Ic"
      },
      "execution_count": 13,
      "outputs": []
    },
    {
      "cell_type": "code",
      "source": [
        "\n",
        "#text = \"Quand Georges Duroy parvint au boulevard, il s’arrêta encore, indécis sur ce qu’il allait faire. Il avait envie maintenant de gagner les Champs-Élysées et l’avenue du bois de Boulogne pour trouver un peu d’air frais sous les arbres.\"\n",
        "myfile = open(\"belAmi_01-01.txt\").read().replace(\"’\",\"'\")\n",
        "pipeline = 'fr_core_news_sm' \n",
        "nlp = spacy.load(pipeline)\n",
        "doc = nlp(myfile)\n",
        "\n",
        "def show_ents(doc): \n",
        "    if doc.ents: \n",
        "        for ent in doc.ents: \n",
        "            print(ent.text+' - ' +str(ent.start_char) +' - '+ str(ent.end_char) +' - '+ent.label_+ ' - '+str(spacy.explain(ent.label_))) \n",
        "            print(\"\\n\")             \n",
        "show_ents(doc)\n"
      ],
      "metadata": {
        "colab": {
          "base_uri": "https://localhost:8080/"
        },
        "id": "gHOhOZci0vyC",
        "outputId": "6875b620-142f-4c8a-a640-a4cb7fc5f9d4"
      },
      "execution_count": 14,
      "outputs": [
        {
          "output_type": "stream",
          "name": "stdout",
          "text": [
            "PREMIÈRE PARTIE - 0 - 15 - MISC - Miscellaneous entities, e.g. events, nationalities, products or works of art\n",
            "\n",
            "\n",
            "Georges Duroy - 95 - 108 - PER - Named person or family.\n",
            "\n",
            "\n",
            "prix fixe - 701 - 710 - MISC - Miscellaneous entities, e.g. events, nationalities, products or works of art\n",
            "\n",
            "\n",
            "rue Notre-Dame-de-Lorette - 1378 - 1403 - LOC - Non-GPE locations, mountain ranges, bodies of water\n",
            "\n",
            "\n",
            "Grand - 2082 - 2087 - PER - Named person or family.\n",
            "\n",
            "\n",
            "Paris - 2459 - 2464 - LOC - Non-GPE locations, mountain ranges, bodies of water\n",
            "\n",
            "\n",
            "Georges Duroy - 2963 - 2976 - PER - Named person or family.\n",
            "\n",
            "\n",
            "Champs-Élysées - 3094 - 3108 - LOC - Non-GPE locations, mountain ranges, bodies of water\n",
            "\n",
            "\n",
            "bois de Boulogne - 3124 - 3140 - LOC - Non-GPE locations, mountain ranges, bodies of water\n",
            "\n",
            "\n",
            "Venez - 3651 - 3656 - LOC - Non-GPE locations, mountain ranges, bodies of water\n",
            "\n",
            "\n",
            "joli garçon - 3672 - 3683 - PER - Named person or family.\n",
            "\n",
            "\n",
            "jaunes - 4478 - 4484 - LOC - Non-GPE locations, mountain ranges, bodies of water\n",
            "\n",
            "\n",
            "verts - 4486 - 4491 - LOC - Non-GPE locations, mountain ranges, bodies of water\n",
            "\n",
            "\n",
            "Américain - 5100 - 5109 - LOC - Non-GPE locations, mountain ranges, bodies of water\n",
            "\n",
            "\n",
            "louis - 5653 - 5658 - PER - Named person or family.\n",
            "\n",
            "\n",
            "louis - 5717 - 5722 - PER - Named person or family.\n",
            "\n",
            "\n",
            "Afrique - 6051 - 6058 - LOC - Non-GPE locations, mountain ranges, bodies of water\n",
            "\n",
            "\n",
            "Arabes - 6092 - 6098 - MISC - Miscellaneous entities, e.g. events, nationalities, products or works of art\n",
            "\n",
            "\n",
            "du Sud - 6122 - 6128 - LOC - Non-GPE locations, mountain ranges, bodies of water\n",
            "\n",
            "\n",
            "Ouled-Alane - 6259 - 6270 - LOC - Non-GPE locations, mountain ranges, bodies of water\n",
            "\n",
            "\n",
            "Arabe - 6478 - 6483 - MISC - Miscellaneous entities, e.g. events, nationalities, products or works of art\n",
            "\n",
            "\n",
            "Paris - 6546 - 6551 - LOC - Non-GPE locations, mountain ranges, bodies of water\n",
            "\n",
            "\n",
            "Tas de brutes ! - 7162 - 7177 - MISC - Miscellaneous entities, e.g. events, nationalities, products or works of art\n",
            "\n",
            "\n",
            "gilet - 7221 - 7226 - LOC - Non-GPE locations, mountain ranges, bodies of water\n",
            "\n",
            "\n",
            "Café Américain - 7455 - 7469 - LOC - Non-GPE locations, mountain ranges, bodies of water\n",
            "\n",
            "\n",
            "Madeleine - 7831 - 7840 - LOC - Non-GPE locations, mountain ranges, bodies of water\n",
            "\n",
            "\n",
            "place de l'Opéra - 7921 - 7937 - LOC - Non-GPE locations, mountain ranges, bodies of water\n",
            "\n",
            "\n",
            "Tiens - 8386 - 8391 - LOC - Non-GPE locations, mountain ranges, bodies of water\n",
            "\n",
            "\n",
            "Forestier - 8393 - 8402 - PER - Named person or family.\n",
            "\n",
            "\n",
            "Georges Duroy - 8622 - 8635 - PER - Named person or family.\n",
            "\n",
            "\n",
            "6e hussards. - 8639 - 8651 - PER - Named person or family.\n",
            "\n",
            "\n",
            "vas-tu ? - 8715 - 8723 - PER - Named person or family.\n",
            "\n",
            "\n",
            "Bougival - 8910 - 8918 - PER - Named person or family.\n",
            "\n",
            "\n",
            "Paris - 8944 - 8949 - LOC - Non-GPE locations, mountain ranges, bodies of water\n",
            "\n",
            "\n",
            "le Midi - 9268 - 9275 - LOC - Non-GPE locations, mountain ranges, bodies of water\n",
            "\n",
            "\n",
            "Vie Française - 9387 - 9400 - LOC - Non-GPE locations, mountain ranges, bodies of water\n",
            "\n",
            "\n",
            "Sénat au Salut - 9413 - 9427 - ORG - Companies, agencies, institutions, etc.\n",
            "\n",
            "\n",
            "la Planète - 9484 - 9494 - LOC - Non-GPE locations, mountain ranges, bodies of water\n",
            "\n",
            "\n",
            "Voilà - 9496 - 9501 - LOC - Non-GPE locations, mountain ranges, bodies of water\n",
            "\n",
            "\n",
            "surpris - 9533 - 9540 - LOC - Non-GPE locations, mountain ranges, bodies of water\n",
            "\n",
            "\n",
            "Paris - 9823 - 9828 - LOC - Non-GPE locations, mountain ranges, bodies of water\n",
            "\n",
            "\n",
            "Nulle - 10035 - 10040 - LOC - Non-GPE locations, mountain ranges, bodies of water\n",
            "\n",
            "\n",
            "Vie Française - 10120 - 10133 - LOC - Non-GPE locations, mountain ranges, bodies of water\n",
            "\n",
            "\n",
            "Paris - 10408 - 10413 - LOC - Non-GPE locations, mountain ranges, bodies of water\n",
            "\n",
            "\n",
            "Paris - 10591 - 10596 - LOC - Non-GPE locations, mountain ranges, bodies of water\n",
            "\n",
            "\n",
            "du Nord - 10666 - 10673 - LOC - Non-GPE locations, mountain ranges, bodies of water\n",
            "\n",
            "\n",
            "Nord - 11324 - 11328 - LOC - Non-GPE locations, mountain ranges, bodies of water\n",
            "\n",
            "\n",
            "manège Pellerin - 11480 - 11495 - LOC - Non-GPE locations, mountain ranges, bodies of water\n",
            "\n",
            "\n",
            "Tout-Paris - 11884 - 11894 - LOC - Non-GPE locations, mountain ranges, bodies of water\n",
            "\n",
            "\n",
            "Ça - 12165 - 12167 - MISC - Miscellaneous entities, e.g. events, nationalities, products or works of art\n",
            "\n",
            "\n",
            "Cicéron - 12250 - 12257 - PER - Named person or family.\n",
            "\n",
            "\n",
            "Tibère - 12264 - 12270 - PER - Named person or family.\n",
            "\n",
            "\n",
            "Ça - 12452 - 12454 - MISC - Miscellaneous entities, e.g. events, nationalities, products or works of art\n",
            "\n",
            "\n",
            "Oh ! - 13068 - 13072 - MISC - Miscellaneous entities, e.g. events, nationalities, products or works of art\n",
            "\n",
            "\n",
            "Menton - 13103 - 13109 - LOC - Non-GPE locations, mountain ranges, bodies of water\n",
            "\n",
            "\n",
            "boulevard Poissonnière - 13169 - 13191 - LOC - Non-GPE locations, mountain ranges, bodies of water\n",
            "\n",
            "\n",
            "La Vie Française - 13442 - 13458 - MISC - Miscellaneous entities, e.g. events, nationalities, products or works of art\n",
            "\n",
            "\n",
            "Duroy - 14325 - 14330 - MISC - Miscellaneous entities, e.g. events, nationalities, products or works of art\n",
            "\n",
            "\n",
            "Forestier - 15362 - 15371 - PER - Named person or family.\n",
            "\n",
            "\n",
            "Jacques Rival - 15788 - 15801 - PER - Named person or family.\n",
            "\n",
            "\n",
            "Garin - 15884 - 15889 - PER - Named person or family.\n",
            "\n",
            "\n",
            "Montel - 15891 - 15897 - PER - Named person or family.\n",
            "\n",
            "\n",
            "Paris - 15983 - 15988 - LOC - Non-GPE locations, mountain ranges, bodies of water\n",
            "\n",
            "\n",
            "Norbert de Varenne - 16236 - 16254 - PER - Named person or family.\n",
            "\n",
            "\n",
            "Soleils morts - 16287 - 16300 - MISC - Miscellaneous entities, e.g. events, nationalities, products or works of art\n",
            "\n",
            "\n",
            "Napolitain - 16459 - 16469 - LOC - Non-GPE locations, mountain ranges, bodies of water\n",
            "\n",
            "\n",
            "Forestier - 16551 - 16560 - PER - Named person or family.\n",
            "\n",
            "\n",
            "Duroy - 16632 - 16637 - PER - Named person or family.\n",
            "\n",
            "\n",
            "Veux-tu - 17156 - 17163 - PER - Named person or family.\n",
            "\n",
            "\n",
            "M. Walter - 17338 - 17347 - PER - Named person or family.\n",
            "\n",
            "\n",
            "Jacques Rival - 17359 - 17372 - PER - Named person or family.\n",
            "\n",
            "\n",
            "Norbert de Varenne - 17376 - 17394 - PER - Named person or family.\n",
            "\n",
            "\n",
            "Mme Forestier - 17435 - 17448 - PER - Named person or family.\n",
            "\n",
            "\n"
          ]
        }
      ]
    },
    {
      "cell_type": "markdown",
      "source": [
        "**2. transfer du texte annoté vers l'outil d'annotation TagTog via leur API REST afin de corriger manuellement les annotations**\n",
        "\n",
        "Au préalable, il faut créer un compte utilisateur et un projet dans TagTog (https://www.tagtog.net/) et modifier les informations de connexion ci-dessous.\n"
      ],
      "metadata": {
        "id": "lNch1ozT12my"
      }
    },
    {
      "cell_type": "code",
      "source": [
        "# Set the credentials at tagtog and project name\n",
        "MY_USERNAME = 'ACHANGER'\n",
        "MY_PASSWORD = 'ACHANGER'\n",
        "MY_PROJECT = 'ACHANGER'\n",
        "\n",
        "# API authentication\n",
        "tagtogAPIUrl = \"https://www.tagtog.net/-api/documents/v1\"\n",
        "auth = requests.auth.HTTPBasicAuth(username=MY_USERNAME, password=MY_PASSWORD)\n",
        "\n",
        "# Initialize ann.json (specification: https://docs.tagtog.net/anndoc.html#ann-json)\n",
        "annjson = {}\n",
        "# Set the document as not confirmed, an annotator will manually confirm whether the annotations are correct\n",
        "annjson['anncomplete'] = False\n",
        "annjson['metas'] = {}\n",
        "annjson['relations'] = []                      \n",
        "# Transform the spaCy entities into tagtog entities\n",
        "annjson['entities'] = get_entities(doc.ents, pipeline)\n",
        "\n",
        "print(myfile)\n",
        "print(json.dumps(annjson))\n",
        "\n",
        "# Parameters for the API call \n",
        "# see https://docs.tagtog.net/API_documents_v1.html#examples-import-pre-annotated-plain-text-file\n",
        "params = {'owner': MY_USERNAME, 'project': MY_PROJECT, 'output': 'null', 'format': 'default-plus-annjson'}\n",
        "# Pre-annotated document composed of the content and the annotations\n",
        "files=[('BelAmi_extrait0101.txt', myfile), ('BelAmi_extrait0101.ann.json', json.dumps(annjson))]\n",
        "# POST request to send the pre-annotated document\n",
        "response = requests.post(tagtogAPIUrl, params=params, auth=auth, files=files)\n",
        "\n",
        "print(response.text)"
      ],
      "metadata": {
        "colab": {
          "base_uri": "https://localhost:8080/"
        },
        "id": "PJeTbSWg0lUA",
        "outputId": "e907e828-a5c5-49d0-fa9b-cabae14d370c"
      },
      "execution_count": 18,
      "outputs": [
        {
          "output_type": "stream",
          "name": "stdout",
          "text": [
            "PREMIÈRE PARTIE.\n",
            "\n",
            "\n",
            "\n",
            "I\n",
            "\n",
            "\n",
            "\n",
            "Quand la caissière lui eut rendu la monnaie de sa pièce de cent sous, Georges Duroy sortit du restaurant.\n",
            "\n",
            "Comme il portait beau, par nature et par pose d'ancien sous-officier, il cambra sa taille, frisa sa moustache d'un geste militaire et familier, et jeta sur les dîneurs attardés un regard rapide et circulaire, un de ces regards de joli garçon, qui s'étendent comme des coups d'épervier.\n",
            "\n",
            "Les femmes avaient levé la tête vers lui, trois petites ouvrières, une maîtresse de musique entre deux âges, mal peignée, négligée, coiffée d'un chapeau toujours poussiéreux et vêtue d'une robe toujours de travers, et deux bourgeoises avec leurs maris, habituées de cette gargote à prix fixe.\n",
            "\n",
            "Lorsqu'il fut sur le trottoir, il demeura un instant immobile, se demandant ce qu'il allait faire. On était au 28 juin, et il lui restait juste en poche trois francs quarante pour finir le mois. Cela représentait deux dîners sans déjeuners, ou deux déjeuners sans dîners, au choix. Il réfléchit que les repas du matin étant de vingt-deux sous, au lieu de trente que coûtaient ceux du soir, il lui resterait, en se contentant des déjeuners, un franc vingt centimes de boni, ce qui représentait encore deux collations au pain et au saucisson, plus deux bocks sur le boulevard. C'était là sa grande dépense et son grand plaisir des nuits ; et il se mit à descendre la rue Notre-Dame-de-Lorette.\n",
            "\n",
            "Il marchait ainsi qu'au temps où il portait l'uniforme des hussards, la poitrine bombée, les jambes un peu entr'ouvertes comme s'il venait de descendre de cheval ; et il avançait brutalement dans la rue pleine de monde, heurtant les épaules, poussant les gens pour ne point se déranger de sa route. Il inclinait légèrement sur l'oreille son chapeau à haute forme assez défraîchi, et battait le pavé de son talon. Il avait l'air de toujours défier quelqu'un, les passants, les maisons, la ville entière, par chic de beau soldat tombé dans le civil.\n",
            "\n",
            "Quoique habillé d'un complet de soixante francs, il gardait une certaine élégance tapageuse, un peu commune, réelle cependant. Grand, bien fait, blond, d'un blond châtain vaguement roussi, avec une moustache retroussée, qui semblait mousser sur sa lèvre, des yeux bleus, clairs, troués d'une pupille toute petite, des cheveux frisés naturellement, séparés par une raie au milieu du crâne, il ressemblait bien au mauvais sujet des romans populaires.\n",
            "\n",
            "C'était une de ces soirées d'été où l'air manque dans Paris. La ville, chaude comme une étuve, paraissait suer dans la nuit étouffante. Les égouts soufflaient par leurs bouches de granit leurs haleines empestées, et les cuisines souterraines jetaient à la rue, par leurs fenêtres basses, les miasmes infâmes des eaux de vaisselle et des vieilles sauces.\n",
            "\n",
            "Les concierges, en manches de chemise, à cheval sur des chaises en paille, fumaient la pipe sous des portes cochères, et les passants allaient d'un pas accablé, le front nu, le chapeau à la main.\n",
            "\n",
            "Quand Georges Duroy parvint au boulevard, il s'arrêta encore, indécis sur ce qu'il allait faire. Il avait envie maintenant de gagner les Champs-Élysées et l'avenue du bois de Boulogne pour trouver un peu d'air frais sous les arbres ; mais un désir aussi le travaillait, celui d'une rencontre amoureuse.\n",
            "\n",
            "Comment se présenterait-elle ? Il n'en savait rien, mais il l'attendait depuis trois mois, tous les jours, tous les soirs. Quelquefois cependant, grâce à sa belle mine et à sa tournure galante, il volait, par-ci, par-là, un peu d'amour, mais il espérait toujours plus et mieux.\n",
            "\n",
            "La poche vide et le sang bouillant, il s'allumait au contact des rôdeuses qui murmurent à l'angle des rues : « Venez-vous chez moi, joli garçon ? » mais il n'osait les suivre ne les pouvant payer ; et il attendait aussi autre chose, d'autres baisers moins vulgaires.\n",
            "\n",
            "Il aimait cependant les lieux où grouillent les filles publiques, leurs bals, leurs cafés, leurs rues ; il aimait les coudoyer, leur parler, les tutoyer, flairer leurs parfums violents, se sentir près d'elles. C'étaient des femmes enfin, des femmes d'amour. Il ne les méprisait point du mépris inné des hommes de famille.\n",
            "\n",
            "Il tourna vers la Madeleine et suivit le flot de foule qui coulait accablée par la chaleur. Les grands cafés, pleins de monde, débordaient sur le trottoir, étalant leur public de buveurs sous la lumière éclatante et crue de leur devanture illuminée. Devant eux, sur de petites tables carrées ou rondes, les verres contenaient des liquides rouges, jaunes, verts, bruns, de toutes les nuances ; et dans l'intérieur des carafes on voyait briller les gros cylindres transparents de glace qui refroidissaient la belle eau claire.\n",
            "\n",
            "Duroy avait ralenti sa marche, et l'envie de boire lui séchait la gorge.\n",
            "\n",
            "Une soif chaude, une soif de soir d'été le tenait, et il pensait à la sensation délicieuse des boissons froides coulant dans la bouche. Mais s'il buvait seulement deux bocks dans la soirée, adieu le maigre souper du lendemain, et il les connaissait trop, les heures affamées de la fin du mois.\n",
            "\n",
            "Il se dit : « Il faut que je gagne dix heures et je prendrai mon bock à l'Américain. Nom d'un chien ! que j'ai soif tout de même ! » Et il regardait tous ces hommes attablés et buvant, tous ces hommes qui pouvaient se désaltérer tant qu'il leur plaisait. Il allait, passant devant les cafés d'un air crâne et gaillard, et il jugeait d'un coup d'œil, à la mine, à l'habit, ce que chaque consommateur devait porter d'argent sur lui. Et une colère l'envahissait contre ces gens assis et tranquilles. En fouillant leurs poches, on trouverait de l'or, de la monnaie blanche et des sous. En moyenne chacun devait avoir au moins deux louis ; ils étaient bien une centaine par café ; cent fois deux louis font quatre mille francs ! Il murmurait : « Les cochons ! » tout en se dandinant avec grâce. S'il avait pu en tenir un au coin d'une rue, dans l'ombre bien noire, il lui aurait tordu le cou, ma foi, sans scrupule, comme il faisait aux volailles des paysans, aux jours de grandes manœuvres.\n",
            "\n",
            "Et il se rappelait ses deux années d'Afrique, la façon dont il rançonnait les Arabes dans les petits postes du Sud. Et un sourire cruel et gai passa sur ses lèvres au souvenir d'une escapade qui avait coûté la vie à trois hommes de la tribu des Ouled-Alane et qui leur avait valu, à ses camarades et à lui, vingt poules, deux moutons et de l'or, et de quoi rire pendant six mois.\n",
            "\n",
            "On n'avait jamais trouvé les coupables, qu'on n'avait guère cherchés d'ailleurs, l'Arabe étant un peu considéré comme la proie naturelle du soldat.\n",
            "\n",
            "À Paris, c'était autre chose. On ne pouvait pas marauder gentiment, sabre au côté et revolver au poing, loin de la justice civile, en liberté. Il se sentait au cœur tous les instincts du sous-off lâché en pays conquis. Certes il les regrettait, ses deux années de désert. Quel dommage de n'être pas resté là-bas ! Mais voilà, il avait espéré mieux en revenant. Et maintenant !… Ah oui, c'était du propre, maintenant !\n",
            "\n",
            "Il faisait aller sa langue dans sa bouche, avec un petit claquement, comme pour constater la sécheresse de son palais.\n",
            "\n",
            "La foule glissait autour de lui, exténuée et lente, et il pensait toujours : « Tas de brutes ! tous ces imbéciles-là ont des sous dans le gilet ». Il bousculait les gens de l'épaule, et sifflotait des airs joyeux. Des messieurs heurtés se retournaient en grognant ; des femmes prononçaient : « En voilà un animal ! »\n",
            "\n",
            "Il passa devant le Vaudeville, et s'arrêta en face du Café Américain, se demandant s'il n'allait pas prendre son bock, tant la soif le torturait. Avant de se décider il regarda l'heure aux horloges lumineuses, au milieu de la chaussée. Il était neuf heures un quart. Il se connaissait : dès que le verre plein de bière serait devant lui, il l'avalerait. Que ferait-il ensuite jusqu'à onze heures ?\n",
            "\n",
            "Il passa : « J'irai jusqu'à la Madeleine, se dit-il, et je reviendrai tout doucement. »\n",
            "\n",
            "Comme il arrivait au coin de la place de l'Opéra, il croisa un gros jeune homme, dont il se rappela vaguement avoir vu la tête quelque part.\n",
            "\n",
            "Il se mit à le suivre en cherchant dans ses souvenirs, et répétant à mi-voix : « Où diable ai-je connu ce particulier-là ? »\n",
            "\n",
            "Il fouillait dans sa pensée, sans parvenir à se le rappeler ; puis, tout d'un coup, par un singulier phénomène de mémoire, le même homme lui apparut moins gros, plus jeune, vêtu d'un uniforme de hussard. Il s'écria tout haut : « Tiens, Forestier ! » et, allongeant le pas, il alla frapper sur l'épaule du marcheur. L'autre se retourna, le regarda, puis dit :\n",
            "\n",
            "— Qu'est-ce que vous me voulez, monsieur ?\n",
            "\n",
            "Duroy se mit à rire :\n",
            "\n",
            "— Tu ne me reconnais pas ?\n",
            "\n",
            "— Non.\n",
            "\n",
            "— Georges Duroy du 6e hussards.\n",
            "\n",
            "Forestier tendit les deux mains :\n",
            "\n",
            "— Ah ! mon vieux ! comment vas-tu ?\n",
            "\n",
            "— Très bien, et toi ?\n",
            "\n",
            "— Oh ! moi, pas trop ; figure-toi que j'ai une poitrine de papier mâché maintenant ; je tousse six mois sur douze, à la suite d'une bronchite que j'ai attrapée à Bougival, l'année de mon retour à Paris, voici quatre ans maintenant.\n",
            "\n",
            "— Tiens ! tu as l'air solide, pourtant.\n",
            "\n",
            "Et Forestier, prenant le bras de son ancien camarade, lui parla de sa maladie, lui raconta les consultations, les opinions et les conseils des médecins, la difficulté de suivre leurs avis dans sa position. On lui ordonnait de passer l'hiver dans le Midi ; mais le pouvait-il ? Il était marié et journaliste, dans une belle situation.\n",
            "\n",
            "— Je dirige la politique à la Vie Française. Je fais le Sénat au Salut, et, de temps en temps, des chroniques littéraires pour la Planète. Voilà, j'ai fait mon chemin.\n",
            "\n",
            "Duroy, surpris, le regardait. Il était bien changé, bien mûri. Il avait maintenant une allure, une tenue, un costume d'homme posé, sûr de lui, et un ventre d'homme qui dîne bien. Autrefois il était maigre, mince et souple, étourdi, casseur d'assiettes, tapageur et toujours en train. En trois ans Paris en avait fait quelqu'un de tout autre, de gros et sérieux, avec quelques cheveux blancs sur les tempes, bien qu'il n'eût pas plus de vingt-sept ans.\n",
            "\n",
            "Forestier demanda :\n",
            "\n",
            "— Où vas-tu ?\n",
            "\n",
            "Duroy répondit :\n",
            "\n",
            "— Nulle part, je fais un tour avant de rentrer.\n",
            "\n",
            "— Eh bien, veux-tu m'accompagner à la Vie Française, où j'ai des épreuves à corriger ; puis nous irons prendre un bock ensemble ?\n",
            "\n",
            "— Je te suis.\n",
            "\n",
            "Et ils se mirent à marcher en se tenant par le bras, avec cette familiarité facile qui subsiste entre compagnons d'école et entre camarades de régiment.\n",
            "\n",
            "— Qu'est-ce que tu fais à Paris ? dit Forestier.\n",
            "\n",
            "Duroy haussa les épaules :\n",
            "\n",
            "— Je crève de faim, tout simplement. Une fois mon temps fini, j'ai voulu venir ici pour… pour faire fortune ou plutôt pour vivre à Paris ; et voilà six mois que je suis employé aux bureaux du chemin de fer du Nord, à quinze cents francs par an, rien de plus.\n",
            "\n",
            "Forestier murmura :\n",
            "\n",
            "— Bigre, ça n'est pas gras.\n",
            "\n",
            "— Je te crois. Mais comment veux-tu que je m'en tire ? Je suis seul, je ne connais personne, je ne peux me recommander de personne. Ce n'est pas la bonne volonté qui me manque, mais les moyens.\n",
            "\n",
            "Son camarade le regarda des pieds à la tête, en homme pratique, qui juge un sujet, puis il prononça d'un ton convaincu :\n",
            "\n",
            "— Vois-tu, mon petit, tout dépend de l'aplomb, ici. Un homme un peu malin devient plus facilement ministre que chef de bureau. Il faut s'imposer et non pas demander. Mais comment diable n'as-tu pas trouvé mieux qu'une place d'employé au Nord ?\n",
            "\n",
            "Duroy reprit :\n",
            "\n",
            "— J'ai cherché partout, et je n'ai rien découvert. Mais j'ai quelque chose en vue en ce moment, on m'offre d'entrer comme écuyer au manège Pellerin. Là, j'aurai, au bas mot, trois mille francs.\n",
            "\n",
            "Forestier s'arrêta net :\n",
            "\n",
            "— Ne fais pas ça, c'est stupide, quand tu devrais gagner dix mille francs. Tu te fermes l'avenir du coup. Dans ton bureau, au moins tu es caché, personne ne te connaît, tu peux en sortir si tu es fort, et faire ton chemin. Mais une fois écuyer, c'est fini. C'est comme si tu étais maître d'hôtel dans une maison où Tout-Paris va dîner. Quand tu auras donné des leçons d'équitation aux hommes du monde ou à leurs fils, ils ne pourront plus s'accoutumer à te considérer comme leur égal.\n",
            "\n",
            "Il se tut, réfléchit quelques secondes, puis demanda :\n",
            "\n",
            "— Es-tu bachelier ?\n",
            "\n",
            "— Non. J'ai échoué deux fois.\n",
            "\n",
            "— Ça ne fait rien, du moment que tu as poussé tes études jusqu'au bout. Si on parle de Cicéron ou de Tibère, tu sais à peu près ce que c'est ?\n",
            "\n",
            "— Oui, à peu près.\n",
            "\n",
            "— Bon, personne n'en sait davantage, à l'exception d'une vingtaine d'imbéciles qui ne sont pas fichus de se tirer d'affaire. Ça n'est pas difficile de passer pour fort, va ; le tout est de ne pas se faire pincer en flagrant délit d'ignorance. On manœuvre, on esquive la difficulté, on tourne l'obstacle, et on colle les autres au moyen d'un dictionnaire. Tous les hommes sont bêtes comme des oies et ignorants comme des carpes.\n",
            "\n",
            "Il parlait en gaillard tranquille qui connaît la vie, et il souriait en regardant passer la foule. Mais tout d'un coup il se mit à tousser, et s'arrêta pour laisser finir la quinte, puis, d'un ton découragé :\n",
            "\n",
            "— Est-ce pas assommant de ne pouvoir se débarrasser de cette bronchite ? Et nous sommes en plein été. Oh ! cet hiver, j'irai me guérir à Menton. Tant pis, ma foi, la santé avant tout.\n",
            "\n",
            "Ils arrivèrent au boulevard Poissonnière, devant une grande porte vitrée, derrière laquelle un journal ouvert était collé sur les deux faces. Trois personnes arrêtées le lisaient.\n",
            "\n",
            "Au-dessus de la porte s'étalait, comme un appel, en grandes lettres de feu dessinées par des flammes de gaz : La Vie Française. Et les promeneurs passant brusquement dans la clarté que jetaient ces trois mots éclatants apparaissaient tout à coup en pleine lumière, visibles, clairs et nets comme au milieu du jour, puis rentraient aussitôt dans l'ombre.\n",
            "\n",
            "Forestier poussa cette porte :\n",
            "\n",
            "— Entre, dit-il.\n",
            "\n",
            "Duroy entra, monta un escalier luxueux et sale que toute la rue voyait, parvint dans une antichambre, dont les deux garçons de bureau saluèrent son camarade, puis s'arrêta dans une sorte de salon d'attente, poussiéreux et fripé, tendu de faux velours d'un vert pisseux, criblé de taches et rongé par endroits, comme si des souris l'eussent grignoté.\n",
            "\n",
            "— Assieds-toi, dit Forestier, je reviens dans cinq minutes.\n",
            "\n",
            "Et il disparut par une des trois sorties qui donnaient dans ce cabinet.\n",
            "\n",
            "Une odeur étrange, particulière, inexprimable, l'odeur des salles de rédaction, flottait dans ce lieu. Duroy demeurait immobile, un peu intimidé, surpris surtout. De temps en temps des hommes passaient devant lui, en courant, entrés par une porte et partis par l'autre avant qu'il eût le temps de les regarder.\n",
            "\n",
            "C'étaient tantôt des jeunes gens, très jeunes, l'air affairé, et tenant à la main une feuille de papier qui palpitait au vent de leur course ; tantôt des ouvriers compositeurs, dont la blouse de toile tachée d'encre laissait voir un col de chemise bien blanc et un pantalon de drap pareil à celui des gens du monde ; et ils portaient avec précaution des bandes de papier imprimé, des épreuves fraîches, tout humides. Quelquefois un petit monsieur entrait, vêtu avec une élégance trop apparente, la taille trop serrée dans la redingote, la jambe trop moulée sous l'étoffe, le pied étreint dans un soulier trop pointu, quelque reporter mondain apportant les échos de la soirée.\n",
            "\n",
            "D'autres encore arrivaient, graves, importants, coiffés de hauts chapeaux à bords plats, comme si cette forme les eût distingués du reste des hommes.\n",
            "\n",
            "Forestier reparut tenant par le bras un grand garçon maigre, de trente à quarante ans, en habit noir et en cravate blanche, très brun, la moustache roulée en pointes aiguës, et qui avait l'air insolent et content de lui.\n",
            "\n",
            "Forestier lui dit :\n",
            "\n",
            "— Adieu, cher maître.\n",
            "\n",
            "L'autre lui serra la main :\n",
            "\n",
            "— Au revoir, mon cher.\n",
            "\n",
            "Et il descendit l'escalier en sifflotant, la canne sous le bras.\n",
            "\n",
            "Duroy demanda :\n",
            "\n",
            "— Qui est-ce ?\n",
            "\n",
            "— C'est Jacques Rival, tu sais, le fameux chroniqueur, le duelliste. Il vient de corriger ses épreuves. Garin, Montel et lui sont les trois premiers chroniqueurs d'esprit et d'actualité que nous ayons à Paris. Il gagne ici trente mille francs par an pour deux articles par semaine.\n",
            "\n",
            "Et comme ils s'en allaient, ils rencontrèrent un petit homme à longs cheveux, gros, d'aspect malpropre, qui montait les marches en soufflant.\n",
            "\n",
            "Forestier salua très bas :\n",
            "\n",
            "— Norbert de Varenne, dit-il, le poète, l'auteur des Soleils morts, encore un homme dans les grands prix. Chaque conte qu'il nous donne coûte trois cents francs, et les plus longs n'ont pas deux cents lignes. Mais entrons au Napolitain, je commence à crever de soif.\n",
            "\n",
            "Dès qu'ils furent assis devant la table du café, Forestier cria : « Deux bocks », et il avala le sien d'un seul trait, tandis que Duroy buvait la bière à lentes gorgées, la savourant et la dégustant, comme une chose précieuse et rare.\n",
            "\n",
            "Son compagnon se taisait, semblait réfléchir, puis tout à coup :\n",
            "\n",
            "— Pourquoi n'essayerais-tu pas du journalisme ?\n",
            "\n",
            "L'autre, surpris, le regarda ; puis il dit :\n",
            "\n",
            "— Mais… c'est que… je n'ai jamais rien écrit.\n",
            "\n",
            "— Bah ! on essaye, on commence. Moi, je pourrais t'employer à aller me chercher des renseignements, à faire des démarches et des visites. Tu aurais, au début, deux cent cinquante francs et tes voitures payées. Veux-tu que j'en parle au directeur ?\n",
            "\n",
            "— Mais certainement que je veux bien.\n",
            "\n",
            "— Alors, fais une chose, viens dîner chez moi demain ; j'ai cinq ou six personnes seulement, le patron, M. Walter, sa femme, Jacques Rival et Norbert de Varenne, que tu viens de voir, plus une amie de Mme Forestier. Est-ce entendu ?\n",
            "\n",
            "{\"anncomplete\": false, \"metas\": {}, \"relations\": [], \"entities\": [{\"classId\": \"e_1\", \"part\": \"s1v1\", \"offsets\": [{\"start\": 95, \"text\": \"Georges Duroy\"}], \"confidence\": {\"state\": \"pre-added\", \"who\": [\"ml:fr_core_news_sm\"], \"prob\": 1}, \"fields\": {}, \"normalizations\": {}}, {\"classId\": \"e_2\", \"part\": \"s1v1\", \"offsets\": [{\"start\": 1378, \"text\": \"rue Notre-Dame-de-Lorette\"}], \"confidence\": {\"state\": \"pre-added\", \"who\": [\"ml:fr_core_news_sm\"], \"prob\": 1}, \"fields\": {}, \"normalizations\": {}}, {\"classId\": \"e_1\", \"part\": \"s1v1\", \"offsets\": [{\"start\": 2082, \"text\": \"Grand\"}], \"confidence\": {\"state\": \"pre-added\", \"who\": [\"ml:fr_core_news_sm\"], \"prob\": 1}, \"fields\": {}, \"normalizations\": {}}, {\"classId\": \"e_2\", \"part\": \"s1v1\", \"offsets\": [{\"start\": 2459, \"text\": \"Paris\"}], \"confidence\": {\"state\": \"pre-added\", \"who\": [\"ml:fr_core_news_sm\"], \"prob\": 1}, \"fields\": {}, \"normalizations\": {}}, {\"classId\": \"e_1\", \"part\": \"s1v1\", \"offsets\": [{\"start\": 2963, \"text\": \"Georges Duroy\"}], \"confidence\": {\"state\": \"pre-added\", \"who\": [\"ml:fr_core_news_sm\"], \"prob\": 1}, \"fields\": {}, \"normalizations\": {}}, {\"classId\": \"e_2\", \"part\": \"s1v1\", \"offsets\": [{\"start\": 3094, \"text\": \"Champs-\\u00c9lys\\u00e9es\"}], \"confidence\": {\"state\": \"pre-added\", \"who\": [\"ml:fr_core_news_sm\"], \"prob\": 1}, \"fields\": {}, \"normalizations\": {}}, {\"classId\": \"e_2\", \"part\": \"s1v1\", \"offsets\": [{\"start\": 3124, \"text\": \"bois de Boulogne\"}], \"confidence\": {\"state\": \"pre-added\", \"who\": [\"ml:fr_core_news_sm\"], \"prob\": 1}, \"fields\": {}, \"normalizations\": {}}, {\"classId\": \"e_2\", \"part\": \"s1v1\", \"offsets\": [{\"start\": 3651, \"text\": \"Venez\"}], \"confidence\": {\"state\": \"pre-added\", \"who\": [\"ml:fr_core_news_sm\"], \"prob\": 1}, \"fields\": {}, \"normalizations\": {}}, {\"classId\": \"e_1\", \"part\": \"s1v1\", \"offsets\": [{\"start\": 3672, \"text\": \"joli gar\\u00e7on\"}], \"confidence\": {\"state\": \"pre-added\", \"who\": [\"ml:fr_core_news_sm\"], \"prob\": 1}, \"fields\": {}, \"normalizations\": {}}, {\"classId\": \"e_2\", \"part\": \"s1v1\", \"offsets\": [{\"start\": 4478, \"text\": \"jaunes\"}], \"confidence\": {\"state\": \"pre-added\", \"who\": [\"ml:fr_core_news_sm\"], \"prob\": 1}, \"fields\": {}, \"normalizations\": {}}, {\"classId\": \"e_2\", \"part\": \"s1v1\", \"offsets\": [{\"start\": 4486, \"text\": \"verts\"}], \"confidence\": {\"state\": \"pre-added\", \"who\": [\"ml:fr_core_news_sm\"], \"prob\": 1}, \"fields\": {}, \"normalizations\": {}}, {\"classId\": \"e_2\", \"part\": \"s1v1\", \"offsets\": [{\"start\": 5100, \"text\": \"Am\\u00e9ricain\"}], \"confidence\": {\"state\": \"pre-added\", \"who\": [\"ml:fr_core_news_sm\"], \"prob\": 1}, \"fields\": {}, \"normalizations\": {}}, {\"classId\": \"e_1\", \"part\": \"s1v1\", \"offsets\": [{\"start\": 5653, \"text\": \"louis\"}], \"confidence\": {\"state\": \"pre-added\", \"who\": [\"ml:fr_core_news_sm\"], \"prob\": 1}, \"fields\": {}, \"normalizations\": {}}, {\"classId\": \"e_1\", \"part\": \"s1v1\", \"offsets\": [{\"start\": 5717, \"text\": \"louis\"}], \"confidence\": {\"state\": \"pre-added\", \"who\": [\"ml:fr_core_news_sm\"], \"prob\": 1}, \"fields\": {}, \"normalizations\": {}}, {\"classId\": \"e_2\", \"part\": \"s1v1\", \"offsets\": [{\"start\": 6051, \"text\": \"Afrique\"}], \"confidence\": {\"state\": \"pre-added\", \"who\": [\"ml:fr_core_news_sm\"], \"prob\": 1}, \"fields\": {}, \"normalizations\": {}}, {\"classId\": \"e_2\", \"part\": \"s1v1\", \"offsets\": [{\"start\": 6122, \"text\": \"du Sud\"}], \"confidence\": {\"state\": \"pre-added\", \"who\": [\"ml:fr_core_news_sm\"], \"prob\": 1}, \"fields\": {}, \"normalizations\": {}}, {\"classId\": \"e_2\", \"part\": \"s1v1\", \"offsets\": [{\"start\": 6259, \"text\": \"Ouled-Alane\"}], \"confidence\": {\"state\": \"pre-added\", \"who\": [\"ml:fr_core_news_sm\"], \"prob\": 1}, \"fields\": {}, \"normalizations\": {}}, {\"classId\": \"e_2\", \"part\": \"s1v1\", \"offsets\": [{\"start\": 6546, \"text\": \"Paris\"}], \"confidence\": {\"state\": \"pre-added\", \"who\": [\"ml:fr_core_news_sm\"], \"prob\": 1}, \"fields\": {}, \"normalizations\": {}}, {\"classId\": \"e_2\", \"part\": \"s1v1\", \"offsets\": [{\"start\": 7221, \"text\": \"gilet\"}], \"confidence\": {\"state\": \"pre-added\", \"who\": [\"ml:fr_core_news_sm\"], \"prob\": 1}, \"fields\": {}, \"normalizations\": {}}, {\"classId\": \"e_2\", \"part\": \"s1v1\", \"offsets\": [{\"start\": 7455, \"text\": \"Caf\\u00e9 Am\\u00e9ricain\"}], \"confidence\": {\"state\": \"pre-added\", \"who\": [\"ml:fr_core_news_sm\"], \"prob\": 1}, \"fields\": {}, \"normalizations\": {}}, {\"classId\": \"e_2\", \"part\": \"s1v1\", \"offsets\": [{\"start\": 7831, \"text\": \"Madeleine\"}], \"confidence\": {\"state\": \"pre-added\", \"who\": [\"ml:fr_core_news_sm\"], \"prob\": 1}, \"fields\": {}, \"normalizations\": {}}, {\"classId\": \"e_2\", \"part\": \"s1v1\", \"offsets\": [{\"start\": 7921, \"text\": \"place de l'Op\\u00e9ra\"}], \"confidence\": {\"state\": \"pre-added\", \"who\": [\"ml:fr_core_news_sm\"], \"prob\": 1}, \"fields\": {}, \"normalizations\": {}}, {\"classId\": \"e_2\", \"part\": \"s1v1\", \"offsets\": [{\"start\": 8386, \"text\": \"Tiens\"}], \"confidence\": {\"state\": \"pre-added\", \"who\": [\"ml:fr_core_news_sm\"], \"prob\": 1}, \"fields\": {}, \"normalizations\": {}}, {\"classId\": \"e_1\", \"part\": \"s1v1\", \"offsets\": [{\"start\": 8393, \"text\": \"Forestier\"}], \"confidence\": {\"state\": \"pre-added\", \"who\": [\"ml:fr_core_news_sm\"], \"prob\": 1}, \"fields\": {}, \"normalizations\": {}}, {\"classId\": \"e_1\", \"part\": \"s1v1\", \"offsets\": [{\"start\": 8622, \"text\": \"Georges Duroy\"}], \"confidence\": {\"state\": \"pre-added\", \"who\": [\"ml:fr_core_news_sm\"], \"prob\": 1}, \"fields\": {}, \"normalizations\": {}}, {\"classId\": \"e_1\", \"part\": \"s1v1\", \"offsets\": [{\"start\": 8639, \"text\": \"6e hussards.\"}], \"confidence\": {\"state\": \"pre-added\", \"who\": [\"ml:fr_core_news_sm\"], \"prob\": 1}, \"fields\": {}, \"normalizations\": {}}, {\"classId\": \"e_1\", \"part\": \"s1v1\", \"offsets\": [{\"start\": 8715, \"text\": \"vas-tu ?\"}], \"confidence\": {\"state\": \"pre-added\", \"who\": [\"ml:fr_core_news_sm\"], \"prob\": 1}, \"fields\": {}, \"normalizations\": {}}, {\"classId\": \"e_1\", \"part\": \"s1v1\", \"offsets\": [{\"start\": 8910, \"text\": \"Bougival\"}], \"confidence\": {\"state\": \"pre-added\", \"who\": [\"ml:fr_core_news_sm\"], \"prob\": 1}, \"fields\": {}, \"normalizations\": {}}, {\"classId\": \"e_2\", \"part\": \"s1v1\", \"offsets\": [{\"start\": 8944, \"text\": \"Paris\"}], \"confidence\": {\"state\": \"pre-added\", \"who\": [\"ml:fr_core_news_sm\"], \"prob\": 1}, \"fields\": {}, \"normalizations\": {}}, {\"classId\": \"e_2\", \"part\": \"s1v1\", \"offsets\": [{\"start\": 9268, \"text\": \"le Midi\"}], \"confidence\": {\"state\": \"pre-added\", \"who\": [\"ml:fr_core_news_sm\"], \"prob\": 1}, \"fields\": {}, \"normalizations\": {}}, {\"classId\": \"e_2\", \"part\": \"s1v1\", \"offsets\": [{\"start\": 9387, \"text\": \"Vie Fran\\u00e7aise\"}], \"confidence\": {\"state\": \"pre-added\", \"who\": [\"ml:fr_core_news_sm\"], \"prob\": 1}, \"fields\": {}, \"normalizations\": {}}, {\"classId\": \"e_2\", \"part\": \"s1v1\", \"offsets\": [{\"start\": 9484, \"text\": \"la Plan\\u00e8te\"}], \"confidence\": {\"state\": \"pre-added\", \"who\": [\"ml:fr_core_news_sm\"], \"prob\": 1}, \"fields\": {}, \"normalizations\": {}}, {\"classId\": \"e_2\", \"part\": \"s1v1\", \"offsets\": [{\"start\": 9496, \"text\": \"Voil\\u00e0\"}], \"confidence\": {\"state\": \"pre-added\", \"who\": [\"ml:fr_core_news_sm\"], \"prob\": 1}, \"fields\": {}, \"normalizations\": {}}, {\"classId\": \"e_2\", \"part\": \"s1v1\", \"offsets\": [{\"start\": 9533, \"text\": \"surpris\"}], \"confidence\": {\"state\": \"pre-added\", \"who\": [\"ml:fr_core_news_sm\"], \"prob\": 1}, \"fields\": {}, \"normalizations\": {}}, {\"classId\": \"e_2\", \"part\": \"s1v1\", \"offsets\": [{\"start\": 9823, \"text\": \"Paris\"}], \"confidence\": {\"state\": \"pre-added\", \"who\": [\"ml:fr_core_news_sm\"], \"prob\": 1}, \"fields\": {}, \"normalizations\": {}}, {\"classId\": \"e_2\", \"part\": \"s1v1\", \"offsets\": [{\"start\": 10035, \"text\": \"Nulle\"}], \"confidence\": {\"state\": \"pre-added\", \"who\": [\"ml:fr_core_news_sm\"], \"prob\": 1}, \"fields\": {}, \"normalizations\": {}}, {\"classId\": \"e_2\", \"part\": \"s1v1\", \"offsets\": [{\"start\": 10120, \"text\": \"Vie Fran\\u00e7aise\"}], \"confidence\": {\"state\": \"pre-added\", \"who\": [\"ml:fr_core_news_sm\"], \"prob\": 1}, \"fields\": {}, \"normalizations\": {}}, {\"classId\": \"e_2\", \"part\": \"s1v1\", \"offsets\": [{\"start\": 10408, \"text\": \"Paris\"}], \"confidence\": {\"state\": \"pre-added\", \"who\": [\"ml:fr_core_news_sm\"], \"prob\": 1}, \"fields\": {}, \"normalizations\": {}}, {\"classId\": \"e_2\", \"part\": \"s1v1\", \"offsets\": [{\"start\": 10591, \"text\": \"Paris\"}], \"confidence\": {\"state\": \"pre-added\", \"who\": [\"ml:fr_core_news_sm\"], \"prob\": 1}, \"fields\": {}, \"normalizations\": {}}, {\"classId\": \"e_2\", \"part\": \"s1v1\", \"offsets\": [{\"start\": 10666, \"text\": \"du Nord\"}], \"confidence\": {\"state\": \"pre-added\", \"who\": [\"ml:fr_core_news_sm\"], \"prob\": 1}, \"fields\": {}, \"normalizations\": {}}, {\"classId\": \"e_2\", \"part\": \"s1v1\", \"offsets\": [{\"start\": 11324, \"text\": \"Nord\"}], \"confidence\": {\"state\": \"pre-added\", \"who\": [\"ml:fr_core_news_sm\"], \"prob\": 1}, \"fields\": {}, \"normalizations\": {}}, {\"classId\": \"e_2\", \"part\": \"s1v1\", \"offsets\": [{\"start\": 11480, \"text\": \"man\\u00e8ge Pellerin\"}], \"confidence\": {\"state\": \"pre-added\", \"who\": [\"ml:fr_core_news_sm\"], \"prob\": 1}, \"fields\": {}, \"normalizations\": {}}, {\"classId\": \"e_2\", \"part\": \"s1v1\", \"offsets\": [{\"start\": 11884, \"text\": \"Tout-Paris\"}], \"confidence\": {\"state\": \"pre-added\", \"who\": [\"ml:fr_core_news_sm\"], \"prob\": 1}, \"fields\": {}, \"normalizations\": {}}, {\"classId\": \"e_1\", \"part\": \"s1v1\", \"offsets\": [{\"start\": 12250, \"text\": \"Cic\\u00e9ron\"}], \"confidence\": {\"state\": \"pre-added\", \"who\": [\"ml:fr_core_news_sm\"], \"prob\": 1}, \"fields\": {}, \"normalizations\": {}}, {\"classId\": \"e_1\", \"part\": \"s1v1\", \"offsets\": [{\"start\": 12264, \"text\": \"Tib\\u00e8re\"}], \"confidence\": {\"state\": \"pre-added\", \"who\": [\"ml:fr_core_news_sm\"], \"prob\": 1}, \"fields\": {}, \"normalizations\": {}}, {\"classId\": \"e_2\", \"part\": \"s1v1\", \"offsets\": [{\"start\": 13103, \"text\": \"Menton\"}], \"confidence\": {\"state\": \"pre-added\", \"who\": [\"ml:fr_core_news_sm\"], \"prob\": 1}, \"fields\": {}, \"normalizations\": {}}, {\"classId\": \"e_2\", \"part\": \"s1v1\", \"offsets\": [{\"start\": 13169, \"text\": \"boulevard Poissonni\\u00e8re\"}], \"confidence\": {\"state\": \"pre-added\", \"who\": [\"ml:fr_core_news_sm\"], \"prob\": 1}, \"fields\": {}, \"normalizations\": {}}, {\"classId\": \"e_1\", \"part\": \"s1v1\", \"offsets\": [{\"start\": 15362, \"text\": \"Forestier\"}], \"confidence\": {\"state\": \"pre-added\", \"who\": [\"ml:fr_core_news_sm\"], \"prob\": 1}, \"fields\": {}, \"normalizations\": {}}, {\"classId\": \"e_1\", \"part\": \"s1v1\", \"offsets\": [{\"start\": 15788, \"text\": \"Jacques Rival\"}], \"confidence\": {\"state\": \"pre-added\", \"who\": [\"ml:fr_core_news_sm\"], \"prob\": 1}, \"fields\": {}, \"normalizations\": {}}, {\"classId\": \"e_1\", \"part\": \"s1v1\", \"offsets\": [{\"start\": 15884, \"text\": \"Garin\"}], \"confidence\": {\"state\": \"pre-added\", \"who\": [\"ml:fr_core_news_sm\"], \"prob\": 1}, \"fields\": {}, \"normalizations\": {}}, {\"classId\": \"e_1\", \"part\": \"s1v1\", \"offsets\": [{\"start\": 15891, \"text\": \"Montel\"}], \"confidence\": {\"state\": \"pre-added\", \"who\": [\"ml:fr_core_news_sm\"], \"prob\": 1}, \"fields\": {}, \"normalizations\": {}}, {\"classId\": \"e_2\", \"part\": \"s1v1\", \"offsets\": [{\"start\": 15983, \"text\": \"Paris\"}], \"confidence\": {\"state\": \"pre-added\", \"who\": [\"ml:fr_core_news_sm\"], \"prob\": 1}, \"fields\": {}, \"normalizations\": {}}, {\"classId\": \"e_1\", \"part\": \"s1v1\", \"offsets\": [{\"start\": 16236, \"text\": \"Norbert de Varenne\"}], \"confidence\": {\"state\": \"pre-added\", \"who\": [\"ml:fr_core_news_sm\"], \"prob\": 1}, \"fields\": {}, \"normalizations\": {}}, {\"classId\": \"e_2\", \"part\": \"s1v1\", \"offsets\": [{\"start\": 16459, \"text\": \"Napolitain\"}], \"confidence\": {\"state\": \"pre-added\", \"who\": [\"ml:fr_core_news_sm\"], \"prob\": 1}, \"fields\": {}, \"normalizations\": {}}, {\"classId\": \"e_1\", \"part\": \"s1v1\", \"offsets\": [{\"start\": 16551, \"text\": \"Forestier\"}], \"confidence\": {\"state\": \"pre-added\", \"who\": [\"ml:fr_core_news_sm\"], \"prob\": 1}, \"fields\": {}, \"normalizations\": {}}, {\"classId\": \"e_1\", \"part\": \"s1v1\", \"offsets\": [{\"start\": 16632, \"text\": \"Duroy\"}], \"confidence\": {\"state\": \"pre-added\", \"who\": [\"ml:fr_core_news_sm\"], \"prob\": 1}, \"fields\": {}, \"normalizations\": {}}, {\"classId\": \"e_1\", \"part\": \"s1v1\", \"offsets\": [{\"start\": 17156, \"text\": \"Veux-tu\"}], \"confidence\": {\"state\": \"pre-added\", \"who\": [\"ml:fr_core_news_sm\"], \"prob\": 1}, \"fields\": {}, \"normalizations\": {}}, {\"classId\": \"e_1\", \"part\": \"s1v1\", \"offsets\": [{\"start\": 17338, \"text\": \"M. Walter\"}], \"confidence\": {\"state\": \"pre-added\", \"who\": [\"ml:fr_core_news_sm\"], \"prob\": 1}, \"fields\": {}, \"normalizations\": {}}, {\"classId\": \"e_1\", \"part\": \"s1v1\", \"offsets\": [{\"start\": 17359, \"text\": \"Jacques Rival\"}], \"confidence\": {\"state\": \"pre-added\", \"who\": [\"ml:fr_core_news_sm\"], \"prob\": 1}, \"fields\": {}, \"normalizations\": {}}, {\"classId\": \"e_1\", \"part\": \"s1v1\", \"offsets\": [{\"start\": 17376, \"text\": \"Norbert de Varenne\"}], \"confidence\": {\"state\": \"pre-added\", \"who\": [\"ml:fr_core_news_sm\"], \"prob\": 1}, \"fields\": {}, \"normalizations\": {}}, {\"classId\": \"e_1\", \"part\": \"s1v1\", \"offsets\": [{\"start\": 17435, \"text\": \"Mme Forestier\"}], \"confidence\": {\"state\": \"pre-added\", \"who\": [\"ml:fr_core_news_sm\"], \"prob\": 1}, \"fields\": {}, \"normalizations\": {}}]}\n",
            "{\"ok\":1,\"errors\":0,\"items\":[{\"origid\":\"BelAmi_extrait0101.txt\",\"filenames\":[\"BelAmi_extrait0101.ann.json\",\"BelAmi_extrait0101.txt\"],\"names\":[\"BelAmi_extrait0101.ann.json\",\"BelAmi_extrait0101.txt\"],\"rawInputSizeInBytes\":30526,\"docid\":\"akT0fuR._lYFHoO48b0pgwEqtmUC-BelAmi_extrait0101.txt\",\"tagtogID\":\"akT0fuR._lYFHoO48b0pgwEqtmUC-BelAmi_extrait0101.txt\",\"result\":\"created\",\"parsedTextSizeInBytes\":17467}],\"warnings\":[]}\n"
          ]
        }
      ]
    },
    {
      "cell_type": "markdown",
      "source": [
        "**3.  Correction manuelle des annotations en vue de créer un jeu  de données d'entrainement**\n",
        "\n",
        "Ensuite télécharger fichier json à partir de tagtog et renommez-le en \"BelAmi_01_01_corrected.ann.json\", ce fichier est traité ci-dessous."
      ],
      "metadata": {
        "id": "cPWGPhPAfX1a"
      }
    },
    {
      "cell_type": "code",
      "source": [
        "from google.colab import files\n",
        "uploaded = files.upload()\n"
      ],
      "metadata": {
        "colab": {
          "resources": {
            "http://localhost:8080/nbextensions/google.colab/files.js": {
              "data": "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",
              "ok": true,
              "headers": [
                [
                  "content-type",
                  "application/javascript"
                ]
              ],
              "status": 200,
              "status_text": ""
            }
          },
          "base_uri": "https://localhost:8080/",
          "height": 73
        },
        "id": "9w8SJskoljHt",
        "outputId": "e5524ba0-5b1f-42c4-f4c1-76267a7c3e9b"
      },
      "execution_count": 19,
      "outputs": [
        {
          "output_type": "display_data",
          "data": {
            "text/html": [
              "\n",
              "     <input type=\"file\" id=\"files-1a0da96f-8995-4902-b669-1e9293ab3ad4\" name=\"files[]\" multiple disabled\n",
              "        style=\"border:none\" />\n",
              "     <output id=\"result-1a0da96f-8995-4902-b669-1e9293ab3ad4\">\n",
              "      Upload widget is only available when the cell has been executed in the\n",
              "      current browser session. Please rerun this cell to enable.\n",
              "      </output>\n",
              "      <script src=\"/nbextensions/google.colab/files.js\"></script> "
            ],
            "text/plain": [
              "<IPython.core.display.HTML object>"
            ]
          },
          "metadata": {}
        },
        {
          "output_type": "stream",
          "name": "stdout",
          "text": [
            "Saving BelAmi_01_01_corrected.ann.json to BelAmi_01_01_corrected.ann (1).json\n"
          ]
        }
      ]
    },
    {
      "cell_type": "markdown",
      "source": [
        "**4. Formattage et intégration des annotations corrigées dans Spacy en tant que jeu de données d'entrainement**"
      ],
      "metadata": {
        "id": "dBl9pvER3gyY"
      }
    },
    {
      "cell_type": "code",
      "source": [
        "# importing the module\n",
        "import json\n",
        "  # reading the data from the file\n",
        "with open('BelAmi_01_01_corrected.ann.json') as f:\n",
        "    data = f.read()  \n",
        "print(\"Data type before reconstruction : \", type(data))\n",
        "# reconstructing the data as a dictionary\n",
        "js_corrected_training_data = json.loads(data)\n",
        "print(\"Data type after reconstruction : \", type(js_corrected_training_data))\n",
        "print(js_corrected_training_data)"
      ],
      "metadata": {
        "colab": {
          "base_uri": "https://localhost:8080/"
        },
        "id": "93f8q8qqmEB7",
        "outputId": "810c0edd-18d5-4696-e4b5-b5a5c1a2768c"
      },
      "execution_count": 20,
      "outputs": [
        {
          "output_type": "stream",
          "name": "stdout",
          "text": [
            "Data type before reconstruction :  <class 'str'>\n",
            "Data type after reconstruction :  <class 'dict'>\n",
            "{'anncomplete': False, 'metas': {}, 'relations': [], 'entities': [{'classId': 'e_1', 'part': 's1v1', 'offsets': [{'start': 95, 'text': 'Georges Duroy'}], 'coordinates': [], 'confidence': {'state': 'pre-added', 'who': ['ml:fr_core_news_sm'], 'prob': 1}, 'fields': {}, 'normalizations': {}}, {'classId': 'e_2', 'part': 's1v1', 'offsets': [{'start': 1378, 'text': 'rue Notre-Dame-de-Lorette'}], 'coordinates': [], 'confidence': {'state': 'pre-added', 'who': ['ml:fr_core_news_sm'], 'prob': 1}, 'fields': {}, 'normalizations': {}}, {'classId': 'e_2', 'part': 's1v1', 'offsets': [{'start': 2459, 'text': 'Paris'}], 'coordinates': [], 'confidence': {'state': 'pre-added', 'who': ['ml:fr_core_news_sm'], 'prob': 1}, 'fields': {}, 'normalizations': {}}, {'classId': 'e_1', 'part': 's1v1', 'offsets': [{'start': 2963, 'text': 'Georges Duroy'}], 'coordinates': [], 'confidence': {'state': 'pre-added', 'who': ['ml:fr_core_news_sm'], 'prob': 1}, 'fields': {}, 'normalizations': {}}, {'classId': 'e_2', 'part': 's1v1', 'offsets': [{'start': 3094, 'text': 'Champs-Élysées'}], 'coordinates': [], 'confidence': {'state': 'pre-added', 'who': ['ml:fr_core_news_sm'], 'prob': 1}, 'fields': {}, 'normalizations': {}}, {'classId': 'e_2', 'part': 's1v1', 'offsets': [{'start': 3114, 'text': 'avenue du bois de Boulogne'}], 'coordinates': [], 'confidence': {'state': 'pre-added', 'who': ['user:cvbrandoe'], 'prob': 1}, 'fields': {}, 'normalizations': {}}, {'classId': 'e_2', 'part': 's1v1', 'offsets': [{'start': 4146, 'text': 'la Madeleine'}], 'coordinates': [], 'confidence': {'state': 'pre-added', 'who': ['ml:regex', 'user:cvbrandoe'], 'prob': 1}, 'fields': {}, 'normalizations': {}}, {'classId': 'e_1', 'part': 's1v1', 'offsets': [{'start': 4657, 'text': 'Duroy'}], 'coordinates': [], 'confidence': {'state': 'pre-added', 'who': ['user:cvbrandoe'], 'prob': 1}, 'fields': {}, 'normalizations': {}}, {'classId': 'e_2', 'part': 's1v1', 'offsets': [{'start': 5100, 'text': 'Américain'}], 'coordinates': [], 'confidence': {'state': 'pre-added', 'who': ['ml:fr_core_news_sm'], 'prob': 1}, 'fields': {}, 'normalizations': {}}, {'classId': 'e_2', 'part': 's1v1', 'offsets': [{'start': 6051, 'text': 'Afrique'}], 'coordinates': [], 'confidence': {'state': 'pre-added', 'who': ['ml:fr_core_news_sm'], 'prob': 1}, 'fields': {}, 'normalizations': {}}, {'classId': 'e_3', 'part': 's1v1', 'offsets': [{'start': 6088, 'text': 'les Arabes'}], 'coordinates': [], 'confidence': {'state': 'pre-added', 'who': ['user:cvbrandoe'], 'prob': 1}, 'fields': {}, 'normalizations': {}}, {'classId': 'e_2', 'part': 's1v1', 'offsets': [{'start': 6125, 'text': 'Sud'}], 'coordinates': [], 'confidence': {'state': 'pre-added', 'who': ['user:cvbrandoe'], 'prob': 1}, 'fields': {}, 'normalizations': {}}, {'classId': 'e_3', 'part': 's1v1', 'offsets': [{'start': 6259, 'text': 'Ouled-Alane'}], 'coordinates': [], 'confidence': {'state': 'pre-added', 'who': ['ml:fr_core_news_sm', 'user:cvbrandoe'], 'prob': 1}, 'fields': {}, 'normalizations': {}}, {'classId': 'e_2', 'part': 's1v1', 'offsets': [{'start': 6546, 'text': 'Paris'}], 'coordinates': [], 'confidence': {'state': 'pre-added', 'who': ['ml:fr_core_news_sm'], 'prob': 1}, 'fields': {}, 'normalizations': {}}, {'classId': 'e_2', 'part': 's1v1', 'offsets': [{'start': 7417, 'text': 'le Vaudeville'}], 'coordinates': [], 'confidence': {'state': 'pre-added', 'who': ['user:cvbrandoe'], 'prob': 1}, 'fields': {}, 'normalizations': {}}, {'classId': 'e_2', 'part': 's1v1', 'offsets': [{'start': 7455, 'text': 'Café Américain'}], 'coordinates': [], 'confidence': {'state': 'pre-added', 'who': ['ml:fr_core_news_sm'], 'prob': 1}, 'fields': {}, 'normalizations': {}}, {'classId': 'e_2', 'part': 's1v1', 'offsets': [{'start': 7828, 'text': 'la Madeleine'}], 'coordinates': [], 'confidence': {'state': 'pre-added', 'who': ['user:cvbrandoe'], 'prob': 1}, 'fields': {}, 'normalizations': {}}, {'classId': 'e_2', 'part': 's1v1', 'offsets': [{'start': 7921, 'text': \"place de l'Opéra\"}], 'coordinates': [], 'confidence': {'state': 'pre-added', 'who': ['ml:fr_core_news_sm'], 'prob': 1}, 'fields': {}, 'normalizations': {}}, {'classId': 'e_1', 'part': 's1v1', 'offsets': [{'start': 8393, 'text': 'Forestier'}], 'coordinates': [], 'confidence': {'state': 'pre-added', 'who': ['ml:fr_core_news_sm'], 'prob': 1}, 'fields': {}, 'normalizations': {}}, {'classId': 'e_1', 'part': 's1v1', 'offsets': [{'start': 8561, 'text': 'Duroy'}], 'coordinates': [], 'confidence': {'state': 'pre-added', 'who': ['ml:regex'], 'prob': 0.5}, 'fields': {}, 'normalizations': {}}, {'classId': 'e_1', 'part': 's1v1', 'offsets': [{'start': 8622, 'text': 'Georges Duroy'}], 'coordinates': [], 'confidence': {'state': 'pre-added', 'who': ['ml:fr_core_news_sm'], 'prob': 1}, 'fields': {}, 'normalizations': {}}, {'classId': 'e_3', 'part': 's1v1', 'offsets': [{'start': 8639, 'text': '6e hussards.'}], 'coordinates': [], 'confidence': {'state': 'pre-added', 'who': ['ml:fr_core_news_sm', 'user:cvbrandoe'], 'prob': 1}, 'fields': {}, 'normalizations': {}}, {'classId': 'e_1', 'part': 's1v1', 'offsets': [{'start': 8653, 'text': 'Forestier'}], 'coordinates': [], 'confidence': {'state': 'pre-added', 'who': ['user:cvbrandoe'], 'prob': 1}, 'fields': {}, 'normalizations': {}}, {'classId': 'e_2', 'part': 's1v1', 'offsets': [{'start': 8910, 'text': 'Bougival'}], 'coordinates': [], 'confidence': {'state': 'pre-added', 'who': ['ml:fr_core_news_sm', 'user:cvbrandoe'], 'prob': 1}, 'fields': {}, 'normalizations': {}}, {'classId': 'e_2', 'part': 's1v1', 'offsets': [{'start': 8944, 'text': 'Paris'}], 'coordinates': [], 'confidence': {'state': 'pre-added', 'who': ['ml:fr_core_news_sm'], 'prob': 1}, 'fields': {}, 'normalizations': {}}, {'classId': 'e_1', 'part': 's1v1', 'offsets': [{'start': 9025, 'text': 'Forestier'}], 'coordinates': [], 'confidence': {'state': 'pre-added', 'who': ['ml:regex'], 'prob': 0.5}, 'fields': {}, 'normalizations': {}}, {'classId': 'e_2', 'part': 's1v1', 'offsets': [{'start': 9268, 'text': 'le Midi'}], 'coordinates': [], 'confidence': {'state': 'pre-added', 'who': ['ml:fr_core_news_sm'], 'prob': 1}, 'fields': {}, 'normalizations': {}}, {'classId': 'e_3', 'part': 's1v1', 'offsets': [{'start': 9387, 'text': 'Vie Française'}], 'coordinates': [], 'confidence': {'state': 'pre-added', 'who': ['ml:fr_core_news_sm', 'user:cvbrandoe'], 'prob': 1}, 'fields': {}, 'normalizations': {}}, {'classId': 'e_3', 'part': 's1v1', 'offsets': [{'start': 9410, 'text': 'le Sénat'}], 'coordinates': [], 'confidence': {'state': 'pre-added', 'who': ['user:cvbrandoe'], 'prob': 1}, 'fields': {}, 'normalizations': {}}, {'classId': 'e_3', 'part': 's1v1', 'offsets': [{'start': 9422, 'text': 'Salut'}], 'coordinates': [], 'confidence': {'state': 'pre-added', 'who': ['user:cvbrandoe'], 'prob': 1}, 'fields': {}, 'normalizations': {}}, {'classId': 'e_3', 'part': 's1v1', 'offsets': [{'start': 9484, 'text': 'la Planète'}], 'coordinates': [], 'confidence': {'state': 'pre-added', 'who': ['ml:fr_core_news_sm', 'user:cvbrandoe'], 'prob': 1}, 'fields': {}, 'normalizations': {}}, {'classId': 'e_1', 'part': 's1v1', 'offsets': [{'start': 9526, 'text': 'Duroy'}], 'coordinates': [], 'confidence': {'state': 'pre-added', 'who': ['ml:regex'], 'prob': 0.5}, 'fields': {}, 'normalizations': {}}, {'classId': 'e_2', 'part': 's1v1', 'offsets': [{'start': 9823, 'text': 'Paris'}], 'coordinates': [], 'confidence': {'state': 'pre-added', 'who': ['ml:fr_core_news_sm'], 'prob': 1}, 'fields': {}, 'normalizations': {}}, {'classId': 'e_1', 'part': 's1v1', 'offsets': [{'start': 9979, 'text': 'Forestier'}], 'coordinates': [], 'confidence': {'state': 'pre-added', 'who': ['ml:regex'], 'prob': 0.5}, 'fields': {}, 'normalizations': {}}, {'classId': 'e_1', 'part': 's1v1', 'offsets': [{'start': 10015, 'text': 'Duroy'}], 'coordinates': [], 'confidence': {'state': 'pre-added', 'who': ['ml:regex'], 'prob': 0.5}, 'fields': {}, 'normalizations': {}}, {'classId': 'e_3', 'part': 's1v1', 'offsets': [{'start': 10117, 'text': 'la Vie Française'}], 'coordinates': [], 'confidence': {'state': 'pre-added', 'who': ['user:cvbrandoe'], 'prob': 1}, 'fields': {}, 'normalizations': {}}, {'classId': 'e_2', 'part': 's1v1', 'offsets': [{'start': 10408, 'text': 'Paris'}], 'coordinates': [], 'confidence': {'state': 'pre-added', 'who': ['ml:fr_core_news_sm'], 'prob': 1}, 'fields': {}, 'normalizations': {}}, {'classId': 'e_1', 'part': 's1v1', 'offsets': [{'start': 10420, 'text': 'Forestier'}], 'coordinates': [], 'confidence': {'state': 'pre-added', 'who': ['ml:regex'], 'prob': 0.5}, 'fields': {}, 'normalizations': {}}, {'classId': 'e_1', 'part': 's1v1', 'offsets': [{'start': 10432, 'text': 'Duroy'}], 'coordinates': [], 'confidence': {'state': 'pre-added', 'who': ['ml:regex'], 'prob': 0.5}, 'fields': {}, 'normalizations': {}}, {'classId': 'e_2', 'part': 's1v1', 'offsets': [{'start': 10591, 'text': 'Paris'}], 'coordinates': [], 'confidence': {'state': 'pre-added', 'who': ['ml:fr_core_news_sm'], 'prob': 1}, 'fields': {}, 'normalizations': {}}, {'classId': 'e_2', 'part': 's1v1', 'offsets': [{'start': 10666, 'text': 'du Nord'}], 'coordinates': [], 'confidence': {'state': 'pre-added', 'who': ['user:cvbrandoe'], 'prob': 1}, 'fields': {}, 'normalizations': {}}, {'classId': 'e_1', 'part': 's1v1', 'offsets': [{'start': 10720, 'text': 'Forestier'}], 'coordinates': [], 'confidence': {'state': 'pre-added', 'who': ['ml:regex'], 'prob': 0.5}, 'fields': {}, 'normalizations': {}}, {'classId': 'e_2', 'part': 's1v1', 'offsets': [{'start': 11324, 'text': 'Nord'}], 'coordinates': [], 'confidence': {'state': 'pre-added', 'who': ['ml:fr_core_news_sm'], 'prob': 1}, 'fields': {}, 'normalizations': {}}, {'classId': 'e_1', 'part': 's1v1', 'offsets': [{'start': 11332, 'text': 'Duroy'}], 'coordinates': [], 'confidence': {'state': 'pre-added', 'who': ['ml:regex'], 'prob': 0.5}, 'fields': {}, 'normalizations': {}}, {'classId': 'e_3', 'part': 's1v1', 'offsets': [{'start': 11480, 'text': 'manège Pellerin'}], 'coordinates': [], 'confidence': {'state': 'pre-added', 'who': ['ml:fr_core_news_sm', 'user:cvbrandoe'], 'prob': 1}, 'fields': {}, 'normalizations': {}}, {'classId': 'e_1', 'part': 's1v1', 'offsets': [{'start': 11543, 'text': 'Forestier'}], 'coordinates': [], 'confidence': {'state': 'pre-added', 'who': ['ml:regex'], 'prob': 0.5}, 'fields': {}, 'normalizations': {}}, {'classId': 'e_3', 'part': 's1v1', 'offsets': [{'start': 11884, 'text': 'Tout-Paris'}], 'coordinates': [], 'confidence': {'state': 'pre-added', 'who': ['ml:fr_core_news_sm', 'user:cvbrandoe'], 'prob': 1}, 'fields': {}, 'normalizations': {}}, {'classId': 'e_3', 'part': 's1v1', 'offsets': [{'start': 12250, 'text': 'Cicéron'}], 'coordinates': [], 'confidence': {'state': 'pre-added', 'who': ['ml:fr_core_news_sm', 'user:cvbrandoe'], 'prob': 1}, 'fields': {}, 'normalizations': {}}, {'classId': 'e_3', 'part': 's1v1', 'offsets': [{'start': 12264, 'text': 'Tibère'}], 'coordinates': [], 'confidence': {'state': 'pre-added', 'who': ['ml:fr_core_news_sm', 'user:cvbrandoe'], 'prob': 1}, 'fields': {}, 'normalizations': {}}, {'classId': 'e_2', 'part': 's1v1', 'offsets': [{'start': 13103, 'text': 'Menton'}], 'coordinates': [], 'confidence': {'state': 'pre-added', 'who': ['ml:fr_core_news_sm'], 'prob': 1}, 'fields': {}, 'normalizations': {}}, {'classId': 'e_2', 'part': 's1v1', 'offsets': [{'start': 13169, 'text': 'boulevard Poissonnière'}], 'coordinates': [], 'confidence': {'state': 'pre-added', 'who': ['ml:fr_core_news_sm'], 'prob': 1}, 'fields': {}, 'normalizations': {}}, {'classId': 'e_3', 'part': 's1v1', 'offsets': [{'start': 13442, 'text': 'La Vie Française'}], 'coordinates': [], 'confidence': {'state': 'pre-added', 'who': ['ml:regex', 'user:cvbrandoe'], 'prob': 1}, 'fields': {}, 'normalizations': {}}, {'classId': 'e_1', 'part': 's1v1', 'offsets': [{'start': 13687, 'text': 'Forestier'}], 'coordinates': [], 'confidence': {'state': 'pre-added', 'who': ['ml:regex', 'user:cvbrandoe'], 'prob': 1}, 'fields': {}, 'normalizations': {}}, {'classId': 'e_1', 'part': 's1v1', 'offsets': [{'start': 13737, 'text': 'Duroy'}], 'coordinates': [], 'confidence': {'state': 'pre-added', 'who': ['ml:regex', 'user:cvbrandoe'], 'prob': 1}, 'fields': {}, 'normalizations': {}}, {'classId': 'e_1', 'part': 's1v1', 'offsets': [{'start': 14107, 'text': 'Forestier'}], 'coordinates': [], 'confidence': {'state': 'pre-added', 'who': ['ml:regex', 'user:cvbrandoe'], 'prob': 1}, 'fields': {}, 'normalizations': {}}, {'classId': 'e_1', 'part': 's1v1', 'offsets': [{'start': 14325, 'text': 'Duroy'}], 'coordinates': [], 'confidence': {'state': 'pre-added', 'who': ['ml:regex', 'user:cvbrandoe'], 'prob': 1}, 'fields': {}, 'normalizations': {}}, {'classId': 'e_1', 'part': 's1v1', 'offsets': [{'start': 15362, 'text': 'Forestier'}], 'coordinates': [], 'confidence': {'state': 'pre-added', 'who': ['ml:fr_core_news_sm'], 'prob': 1}, 'fields': {}, 'normalizations': {}}, {'classId': 'e_1', 'part': 's1v1', 'offsets': [{'start': 15584, 'text': 'Forestier'}], 'coordinates': [], 'confidence': {'state': 'pre-added', 'who': ['ml:regex', 'user:cvbrandoe'], 'prob': 1}, 'fields': {}, 'normalizations': {}}, {'classId': 'e_1', 'part': 's1v1', 'offsets': [{'start': 15747, 'text': 'Duroy'}], 'coordinates': [], 'confidence': {'state': 'pre-added', 'who': ['ml:regex', 'user:cvbrandoe'], 'prob': 1}, 'fields': {}, 'normalizations': {}}, {'classId': 'e_1', 'part': 's1v1', 'offsets': [{'start': 15788, 'text': 'Jacques Rival'}], 'coordinates': [], 'confidence': {'state': 'pre-added', 'who': ['ml:fr_core_news_sm'], 'prob': 1}, 'fields': {}, 'normalizations': {}}, {'classId': 'e_1', 'part': 's1v1', 'offsets': [{'start': 15884, 'text': 'Garin'}], 'coordinates': [], 'confidence': {'state': 'pre-added', 'who': ['ml:fr_core_news_sm'], 'prob': 1}, 'fields': {}, 'normalizations': {}}, {'classId': 'e_1', 'part': 's1v1', 'offsets': [{'start': 15891, 'text': 'Montel'}], 'coordinates': [], 'confidence': {'state': 'pre-added', 'who': ['ml:fr_core_news_sm'], 'prob': 1}, 'fields': {}, 'normalizations': {}}, {'classId': 'e_2', 'part': 's1v1', 'offsets': [{'start': 15983, 'text': 'Paris'}], 'coordinates': [], 'confidence': {'state': 'pre-added', 'who': ['ml:fr_core_news_sm'], 'prob': 1}, 'fields': {}, 'normalizations': {}}, {'classId': 'e_1', 'part': 's1v1', 'offsets': [{'start': 16206, 'text': 'Forestier'}], 'coordinates': [], 'confidence': {'state': 'pre-added', 'who': ['ml:regex', 'user:cvbrandoe'], 'prob': 1}, 'fields': {}, 'normalizations': {}}, {'classId': 'e_1', 'part': 's1v1', 'offsets': [{'start': 16236, 'text': 'Norbert de Varenne'}], 'coordinates': [], 'confidence': {'state': 'pre-added', 'who': ['ml:fr_core_news_sm'], 'prob': 1}, 'fields': {}, 'normalizations': {}}, {'classId': 'e_2', 'part': 's1v1', 'offsets': [{'start': 16459, 'text': 'Napolitain'}], 'coordinates': [], 'confidence': {'state': 'pre-added', 'who': ['ml:fr_core_news_sm'], 'prob': 1}, 'fields': {}, 'normalizations': {}}, {'classId': 'e_1', 'part': 's1v1', 'offsets': [{'start': 16551, 'text': 'Forestier'}], 'coordinates': [], 'confidence': {'state': 'pre-added', 'who': ['ml:fr_core_news_sm'], 'prob': 1}, 'fields': {}, 'normalizations': {}}, {'classId': 'e_1', 'part': 's1v1', 'offsets': [{'start': 16632, 'text': 'Duroy'}], 'coordinates': [], 'confidence': {'state': 'pre-added', 'who': ['ml:fr_core_news_sm'], 'prob': 1}, 'fields': {}, 'normalizations': {}}, {'classId': 'e_1', 'part': 's1v1', 'offsets': [{'start': 17338, 'text': 'M. Walter'}], 'coordinates': [], 'confidence': {'state': 'pre-added', 'who': ['ml:fr_core_news_sm'], 'prob': 1}, 'fields': {}, 'normalizations': {}}, {'classId': 'e_1', 'part': 's1v1', 'offsets': [{'start': 17359, 'text': 'Jacques Rival'}], 'coordinates': [], 'confidence': {'state': 'pre-added', 'who': ['ml:fr_core_news_sm'], 'prob': 1}, 'fields': {}, 'normalizations': {}}, {'classId': 'e_1', 'part': 's1v1', 'offsets': [{'start': 17376, 'text': 'Norbert de Varenne'}], 'coordinates': [], 'confidence': {'state': 'pre-added', 'who': ['ml:fr_core_news_sm'], 'prob': 1}, 'fields': {}, 'normalizations': {}}, {'classId': 'e_1', 'part': 's1v1', 'offsets': [{'start': 17435, 'text': 'Mme Forestier'}], 'coordinates': [], 'confidence': {'state': 'pre-added', 'who': ['ml:fr_core_news_sm'], 'prob': 1}, 'fields': {}, 'normalizations': {}}], 'annotatable': {'parts': ['s1v1']}}\n"
          ]
        }
      ]
    },
    {
      "cell_type": "code",
      "source": [
        "def get_class_id_inv(label):\n",
        "  \"\"\"\n",
        "  Translates the tagtog entity type id into spaCy label id \n",
        "  - label: tagtog entity type id\n",
        "  \"\"\"\n",
        "  choices = {'e_1': 'PER', 'e_2': 'LOC', 'e_3': 'MISC'}\n",
        "  return choices.get(label, None)"
      ],
      "metadata": {
        "id": "7PqUS4Cun4Z7"
      },
      "execution_count": 21,
      "outputs": []
    },
    {
      "cell_type": "code",
      "source": [
        "\n",
        "\n",
        "training_data = {'classes' : ['PER', \"LOC\", \"MISC\"], 'annotations' : []}\n",
        "temp_dict = {}\n",
        "temp_dict['text'] = myfile\n",
        "temp_dict['entities'] = []\n",
        "for example in js_corrected_training_data['entities']:  \n",
        "  #print(example)\n",
        "  start = example['offsets'][0]['start']\n",
        "  end = int(example['offsets'][0]['start']) + len(example['offsets'][0]['text'])\n",
        "  label = get_class_id_inv(example['classId'])\n",
        "  temp_dict['entities'].append((start, end, label))\n",
        "  #print(temp_dict['entities'])\n",
        "training_data['annotations'].append(temp_dict)\n",
        "  \n",
        "print(training_data['annotations'][0])"
      ],
      "metadata": {
        "colab": {
          "base_uri": "https://localhost:8080/"
        },
        "id": "DvzGn-rpfE_p",
        "outputId": "15804690-5d42-4143-a9f4-1ed00403070d"
      },
      "execution_count": 22,
      "outputs": [
        {
          "output_type": "stream",
          "name": "stdout",
          "text": [
            "{'text': \"PREMIÈRE PARTIE.\\n\\n\\n\\nI\\n\\n\\n\\nQuand la caissière lui eut rendu la monnaie de sa pièce de cent sous, Georges Duroy sortit du restaurant.\\n\\nComme il portait beau, par nature et par pose d'ancien sous-officier, il cambra sa taille, frisa sa moustache d'un geste militaire et familier, et jeta sur les dîneurs attardés un regard rapide et circulaire, un de ces regards de joli garçon, qui s'étendent comme des coups d'épervier.\\n\\nLes femmes avaient levé la tête vers lui, trois petites ouvrières, une maîtresse de musique entre deux âges, mal peignée, négligée, coiffée d'un chapeau toujours poussiéreux et vêtue d'une robe toujours de travers, et deux bourgeoises avec leurs maris, habituées de cette gargote à prix fixe.\\n\\nLorsqu'il fut sur le trottoir, il demeura un instant immobile, se demandant ce qu'il allait faire. On était au 28 juin, et il lui restait juste en poche trois francs quarante pour finir le mois. Cela représentait deux dîners sans déjeuners, ou deux déjeuners sans dîners, au choix. Il réfléchit que les repas du matin étant de vingt-deux sous, au lieu de trente que coûtaient ceux du soir, il lui resterait, en se contentant des déjeuners, un franc vingt centimes de boni, ce qui représentait encore deux collations au pain et au saucisson, plus deux bocks sur le boulevard. C'était là sa grande dépense et son grand plaisir des nuits ; et il se mit à descendre la rue Notre-Dame-de-Lorette.\\n\\nIl marchait ainsi qu'au temps où il portait l'uniforme des hussards, la poitrine bombée, les jambes un peu entr'ouvertes comme s'il venait de descendre de cheval ; et il avançait brutalement dans la rue pleine de monde, heurtant les épaules, poussant les gens pour ne point se déranger de sa route. Il inclinait légèrement sur l'oreille son chapeau à haute forme assez défraîchi, et battait le pavé de son talon. Il avait l'air de toujours défier quelqu'un, les passants, les maisons, la ville entière, par chic de beau soldat tombé dans le civil.\\n\\nQuoique habillé d'un complet de soixante francs, il gardait une certaine élégance tapageuse, un peu commune, réelle cependant. Grand, bien fait, blond, d'un blond châtain vaguement roussi, avec une moustache retroussée, qui semblait mousser sur sa lèvre, des yeux bleus, clairs, troués d'une pupille toute petite, des cheveux frisés naturellement, séparés par une raie au milieu du crâne, il ressemblait bien au mauvais sujet des romans populaires.\\n\\nC'était une de ces soirées d'été où l'air manque dans Paris. La ville, chaude comme une étuve, paraissait suer dans la nuit étouffante. Les égouts soufflaient par leurs bouches de granit leurs haleines empestées, et les cuisines souterraines jetaient à la rue, par leurs fenêtres basses, les miasmes infâmes des eaux de vaisselle et des vieilles sauces.\\n\\nLes concierges, en manches de chemise, à cheval sur des chaises en paille, fumaient la pipe sous des portes cochères, et les passants allaient d'un pas accablé, le front nu, le chapeau à la main.\\n\\nQuand Georges Duroy parvint au boulevard, il s'arrêta encore, indécis sur ce qu'il allait faire. Il avait envie maintenant de gagner les Champs-Élysées et l'avenue du bois de Boulogne pour trouver un peu d'air frais sous les arbres ; mais un désir aussi le travaillait, celui d'une rencontre amoureuse.\\n\\nComment se présenterait-elle ? Il n'en savait rien, mais il l'attendait depuis trois mois, tous les jours, tous les soirs. Quelquefois cependant, grâce à sa belle mine et à sa tournure galante, il volait, par-ci, par-là, un peu d'amour, mais il espérait toujours plus et mieux.\\n\\nLa poche vide et le sang bouillant, il s'allumait au contact des rôdeuses qui murmurent à l'angle des rues : « Venez-vous chez moi, joli garçon ? » mais il n'osait les suivre ne les pouvant payer ; et il attendait aussi autre chose, d'autres baisers moins vulgaires.\\n\\nIl aimait cependant les lieux où grouillent les filles publiques, leurs bals, leurs cafés, leurs rues ; il aimait les coudoyer, leur parler, les tutoyer, flairer leurs parfums violents, se sentir près d'elles. C'étaient des femmes enfin, des femmes d'amour. Il ne les méprisait point du mépris inné des hommes de famille.\\n\\nIl tourna vers la Madeleine et suivit le flot de foule qui coulait accablée par la chaleur. Les grands cafés, pleins de monde, débordaient sur le trottoir, étalant leur public de buveurs sous la lumière éclatante et crue de leur devanture illuminée. Devant eux, sur de petites tables carrées ou rondes, les verres contenaient des liquides rouges, jaunes, verts, bruns, de toutes les nuances ; et dans l'intérieur des carafes on voyait briller les gros cylindres transparents de glace qui refroidissaient la belle eau claire.\\n\\nDuroy avait ralenti sa marche, et l'envie de boire lui séchait la gorge.\\n\\nUne soif chaude, une soif de soir d'été le tenait, et il pensait à la sensation délicieuse des boissons froides coulant dans la bouche. Mais s'il buvait seulement deux bocks dans la soirée, adieu le maigre souper du lendemain, et il les connaissait trop, les heures affamées de la fin du mois.\\n\\nIl se dit : « Il faut que je gagne dix heures et je prendrai mon bock à l'Américain. Nom d'un chien ! que j'ai soif tout de même ! » Et il regardait tous ces hommes attablés et buvant, tous ces hommes qui pouvaient se désaltérer tant qu'il leur plaisait. Il allait, passant devant les cafés d'un air crâne et gaillard, et il jugeait d'un coup d'œil, à la mine, à l'habit, ce que chaque consommateur devait porter d'argent sur lui. Et une colère l'envahissait contre ces gens assis et tranquilles. En fouillant leurs poches, on trouverait de l'or, de la monnaie blanche et des sous. En moyenne chacun devait avoir au moins deux louis ; ils étaient bien une centaine par café ; cent fois deux louis font quatre mille francs ! Il murmurait : « Les cochons ! » tout en se dandinant avec grâce. S'il avait pu en tenir un au coin d'une rue, dans l'ombre bien noire, il lui aurait tordu le cou, ma foi, sans scrupule, comme il faisait aux volailles des paysans, aux jours de grandes manœuvres.\\n\\nEt il se rappelait ses deux années d'Afrique, la façon dont il rançonnait les Arabes dans les petits postes du Sud. Et un sourire cruel et gai passa sur ses lèvres au souvenir d'une escapade qui avait coûté la vie à trois hommes de la tribu des Ouled-Alane et qui leur avait valu, à ses camarades et à lui, vingt poules, deux moutons et de l'or, et de quoi rire pendant six mois.\\n\\nOn n'avait jamais trouvé les coupables, qu'on n'avait guère cherchés d'ailleurs, l'Arabe étant un peu considéré comme la proie naturelle du soldat.\\n\\nÀ Paris, c'était autre chose. On ne pouvait pas marauder gentiment, sabre au côté et revolver au poing, loin de la justice civile, en liberté. Il se sentait au cœur tous les instincts du sous-off lâché en pays conquis. Certes il les regrettait, ses deux années de désert. Quel dommage de n'être pas resté là-bas ! Mais voilà, il avait espéré mieux en revenant. Et maintenant !… Ah oui, c'était du propre, maintenant !\\n\\nIl faisait aller sa langue dans sa bouche, avec un petit claquement, comme pour constater la sécheresse de son palais.\\n\\nLa foule glissait autour de lui, exténuée et lente, et il pensait toujours : « Tas de brutes ! tous ces imbéciles-là ont des sous dans le gilet ». Il bousculait les gens de l'épaule, et sifflotait des airs joyeux. Des messieurs heurtés se retournaient en grognant ; des femmes prononçaient : « En voilà un animal ! »\\n\\nIl passa devant le Vaudeville, et s'arrêta en face du Café Américain, se demandant s'il n'allait pas prendre son bock, tant la soif le torturait. Avant de se décider il regarda l'heure aux horloges lumineuses, au milieu de la chaussée. Il était neuf heures un quart. Il se connaissait : dès que le verre plein de bière serait devant lui, il l'avalerait. Que ferait-il ensuite jusqu'à onze heures ?\\n\\nIl passa : « J'irai jusqu'à la Madeleine, se dit-il, et je reviendrai tout doucement. »\\n\\nComme il arrivait au coin de la place de l'Opéra, il croisa un gros jeune homme, dont il se rappela vaguement avoir vu la tête quelque part.\\n\\nIl se mit à le suivre en cherchant dans ses souvenirs, et répétant à mi-voix : « Où diable ai-je connu ce particulier-là ? »\\n\\nIl fouillait dans sa pensée, sans parvenir à se le rappeler ; puis, tout d'un coup, par un singulier phénomène de mémoire, le même homme lui apparut moins gros, plus jeune, vêtu d'un uniforme de hussard. Il s'écria tout haut : « Tiens, Forestier ! » et, allongeant le pas, il alla frapper sur l'épaule du marcheur. L'autre se retourna, le regarda, puis dit :\\n\\n— Qu'est-ce que vous me voulez, monsieur ?\\n\\nDuroy se mit à rire :\\n\\n— Tu ne me reconnais pas ?\\n\\n— Non.\\n\\n— Georges Duroy du 6e hussards.\\n\\nForestier tendit les deux mains :\\n\\n— Ah ! mon vieux ! comment vas-tu ?\\n\\n— Très bien, et toi ?\\n\\n— Oh ! moi, pas trop ; figure-toi que j'ai une poitrine de papier mâché maintenant ; je tousse six mois sur douze, à la suite d'une bronchite que j'ai attrapée à Bougival, l'année de mon retour à Paris, voici quatre ans maintenant.\\n\\n— Tiens ! tu as l'air solide, pourtant.\\n\\nEt Forestier, prenant le bras de son ancien camarade, lui parla de sa maladie, lui raconta les consultations, les opinions et les conseils des médecins, la difficulté de suivre leurs avis dans sa position. On lui ordonnait de passer l'hiver dans le Midi ; mais le pouvait-il ? Il était marié et journaliste, dans une belle situation.\\n\\n— Je dirige la politique à la Vie Française. Je fais le Sénat au Salut, et, de temps en temps, des chroniques littéraires pour la Planète. Voilà, j'ai fait mon chemin.\\n\\nDuroy, surpris, le regardait. Il était bien changé, bien mûri. Il avait maintenant une allure, une tenue, un costume d'homme posé, sûr de lui, et un ventre d'homme qui dîne bien. Autrefois il était maigre, mince et souple, étourdi, casseur d'assiettes, tapageur et toujours en train. En trois ans Paris en avait fait quelqu'un de tout autre, de gros et sérieux, avec quelques cheveux blancs sur les tempes, bien qu'il n'eût pas plus de vingt-sept ans.\\n\\nForestier demanda :\\n\\n— Où vas-tu ?\\n\\nDuroy répondit :\\n\\n— Nulle part, je fais un tour avant de rentrer.\\n\\n— Eh bien, veux-tu m'accompagner à la Vie Française, où j'ai des épreuves à corriger ; puis nous irons prendre un bock ensemble ?\\n\\n— Je te suis.\\n\\nEt ils se mirent à marcher en se tenant par le bras, avec cette familiarité facile qui subsiste entre compagnons d'école et entre camarades de régiment.\\n\\n— Qu'est-ce que tu fais à Paris ? dit Forestier.\\n\\nDuroy haussa les épaules :\\n\\n— Je crève de faim, tout simplement. Une fois mon temps fini, j'ai voulu venir ici pour… pour faire fortune ou plutôt pour vivre à Paris ; et voilà six mois que je suis employé aux bureaux du chemin de fer du Nord, à quinze cents francs par an, rien de plus.\\n\\nForestier murmura :\\n\\n— Bigre, ça n'est pas gras.\\n\\n— Je te crois. Mais comment veux-tu que je m'en tire ? Je suis seul, je ne connais personne, je ne peux me recommander de personne. Ce n'est pas la bonne volonté qui me manque, mais les moyens.\\n\\nSon camarade le regarda des pieds à la tête, en homme pratique, qui juge un sujet, puis il prononça d'un ton convaincu :\\n\\n— Vois-tu, mon petit, tout dépend de l'aplomb, ici. Un homme un peu malin devient plus facilement ministre que chef de bureau. Il faut s'imposer et non pas demander. Mais comment diable n'as-tu pas trouvé mieux qu'une place d'employé au Nord ?\\n\\nDuroy reprit :\\n\\n— J'ai cherché partout, et je n'ai rien découvert. Mais j'ai quelque chose en vue en ce moment, on m'offre d'entrer comme écuyer au manège Pellerin. Là, j'aurai, au bas mot, trois mille francs.\\n\\nForestier s'arrêta net :\\n\\n— Ne fais pas ça, c'est stupide, quand tu devrais gagner dix mille francs. Tu te fermes l'avenir du coup. Dans ton bureau, au moins tu es caché, personne ne te connaît, tu peux en sortir si tu es fort, et faire ton chemin. Mais une fois écuyer, c'est fini. C'est comme si tu étais maître d'hôtel dans une maison où Tout-Paris va dîner. Quand tu auras donné des leçons d'équitation aux hommes du monde ou à leurs fils, ils ne pourront plus s'accoutumer à te considérer comme leur égal.\\n\\nIl se tut, réfléchit quelques secondes, puis demanda :\\n\\n— Es-tu bachelier ?\\n\\n— Non. J'ai échoué deux fois.\\n\\n— Ça ne fait rien, du moment que tu as poussé tes études jusqu'au bout. Si on parle de Cicéron ou de Tibère, tu sais à peu près ce que c'est ?\\n\\n— Oui, à peu près.\\n\\n— Bon, personne n'en sait davantage, à l'exception d'une vingtaine d'imbéciles qui ne sont pas fichus de se tirer d'affaire. Ça n'est pas difficile de passer pour fort, va ; le tout est de ne pas se faire pincer en flagrant délit d'ignorance. On manœuvre, on esquive la difficulté, on tourne l'obstacle, et on colle les autres au moyen d'un dictionnaire. Tous les hommes sont bêtes comme des oies et ignorants comme des carpes.\\n\\nIl parlait en gaillard tranquille qui connaît la vie, et il souriait en regardant passer la foule. Mais tout d'un coup il se mit à tousser, et s'arrêta pour laisser finir la quinte, puis, d'un ton découragé :\\n\\n— Est-ce pas assommant de ne pouvoir se débarrasser de cette bronchite ? Et nous sommes en plein été. Oh ! cet hiver, j'irai me guérir à Menton. Tant pis, ma foi, la santé avant tout.\\n\\nIls arrivèrent au boulevard Poissonnière, devant une grande porte vitrée, derrière laquelle un journal ouvert était collé sur les deux faces. Trois personnes arrêtées le lisaient.\\n\\nAu-dessus de la porte s'étalait, comme un appel, en grandes lettres de feu dessinées par des flammes de gaz : La Vie Française. Et les promeneurs passant brusquement dans la clarté que jetaient ces trois mots éclatants apparaissaient tout à coup en pleine lumière, visibles, clairs et nets comme au milieu du jour, puis rentraient aussitôt dans l'ombre.\\n\\nForestier poussa cette porte :\\n\\n— Entre, dit-il.\\n\\nDuroy entra, monta un escalier luxueux et sale que toute la rue voyait, parvint dans une antichambre, dont les deux garçons de bureau saluèrent son camarade, puis s'arrêta dans une sorte de salon d'attente, poussiéreux et fripé, tendu de faux velours d'un vert pisseux, criblé de taches et rongé par endroits, comme si des souris l'eussent grignoté.\\n\\n— Assieds-toi, dit Forestier, je reviens dans cinq minutes.\\n\\nEt il disparut par une des trois sorties qui donnaient dans ce cabinet.\\n\\nUne odeur étrange, particulière, inexprimable, l'odeur des salles de rédaction, flottait dans ce lieu. Duroy demeurait immobile, un peu intimidé, surpris surtout. De temps en temps des hommes passaient devant lui, en courant, entrés par une porte et partis par l'autre avant qu'il eût le temps de les regarder.\\n\\nC'étaient tantôt des jeunes gens, très jeunes, l'air affairé, et tenant à la main une feuille de papier qui palpitait au vent de leur course ; tantôt des ouvriers compositeurs, dont la blouse de toile tachée d'encre laissait voir un col de chemise bien blanc et un pantalon de drap pareil à celui des gens du monde ; et ils portaient avec précaution des bandes de papier imprimé, des épreuves fraîches, tout humides. Quelquefois un petit monsieur entrait, vêtu avec une élégance trop apparente, la taille trop serrée dans la redingote, la jambe trop moulée sous l'étoffe, le pied étreint dans un soulier trop pointu, quelque reporter mondain apportant les échos de la soirée.\\n\\nD'autres encore arrivaient, graves, importants, coiffés de hauts chapeaux à bords plats, comme si cette forme les eût distingués du reste des hommes.\\n\\nForestier reparut tenant par le bras un grand garçon maigre, de trente à quarante ans, en habit noir et en cravate blanche, très brun, la moustache roulée en pointes aiguës, et qui avait l'air insolent et content de lui.\\n\\nForestier lui dit :\\n\\n— Adieu, cher maître.\\n\\nL'autre lui serra la main :\\n\\n— Au revoir, mon cher.\\n\\nEt il descendit l'escalier en sifflotant, la canne sous le bras.\\n\\nDuroy demanda :\\n\\n— Qui est-ce ?\\n\\n— C'est Jacques Rival, tu sais, le fameux chroniqueur, le duelliste. Il vient de corriger ses épreuves. Garin, Montel et lui sont les trois premiers chroniqueurs d'esprit et d'actualité que nous ayons à Paris. Il gagne ici trente mille francs par an pour deux articles par semaine.\\n\\nEt comme ils s'en allaient, ils rencontrèrent un petit homme à longs cheveux, gros, d'aspect malpropre, qui montait les marches en soufflant.\\n\\nForestier salua très bas :\\n\\n— Norbert de Varenne, dit-il, le poète, l'auteur des Soleils morts, encore un homme dans les grands prix. Chaque conte qu'il nous donne coûte trois cents francs, et les plus longs n'ont pas deux cents lignes. Mais entrons au Napolitain, je commence à crever de soif.\\n\\nDès qu'ils furent assis devant la table du café, Forestier cria : « Deux bocks », et il avala le sien d'un seul trait, tandis que Duroy buvait la bière à lentes gorgées, la savourant et la dégustant, comme une chose précieuse et rare.\\n\\nSon compagnon se taisait, semblait réfléchir, puis tout à coup :\\n\\n— Pourquoi n'essayerais-tu pas du journalisme ?\\n\\nL'autre, surpris, le regarda ; puis il dit :\\n\\n— Mais… c'est que… je n'ai jamais rien écrit.\\n\\n— Bah ! on essaye, on commence. Moi, je pourrais t'employer à aller me chercher des renseignements, à faire des démarches et des visites. Tu aurais, au début, deux cent cinquante francs et tes voitures payées. Veux-tu que j'en parle au directeur ?\\n\\n— Mais certainement que je veux bien.\\n\\n— Alors, fais une chose, viens dîner chez moi demain ; j'ai cinq ou six personnes seulement, le patron, M. Walter, sa femme, Jacques Rival et Norbert de Varenne, que tu viens de voir, plus une amie de Mme Forestier. Est-ce entendu ?\\n\", 'entities': [(95, 108, 'PER'), (1378, 1403, 'LOC'), (2459, 2464, 'LOC'), (2963, 2976, 'PER'), (3094, 3108, 'LOC'), (3114, 3140, 'LOC'), (4146, 4158, 'LOC'), (4657, 4662, 'PER'), (5100, 5109, 'LOC'), (6051, 6058, 'LOC'), (6088, 6098, 'MISC'), (6125, 6128, 'LOC'), (6259, 6270, 'MISC'), (6546, 6551, 'LOC'), (7417, 7430, 'LOC'), (7455, 7469, 'LOC'), (7828, 7840, 'LOC'), (7921, 7937, 'LOC'), (8393, 8402, 'PER'), (8561, 8566, 'PER'), (8622, 8635, 'PER'), (8639, 8651, 'MISC'), (8653, 8662, 'PER'), (8910, 8918, 'LOC'), (8944, 8949, 'LOC'), (9025, 9034, 'PER'), (9268, 9275, 'LOC'), (9387, 9400, 'MISC'), (9410, 9418, 'MISC'), (9422, 9427, 'MISC'), (9484, 9494, 'MISC'), (9526, 9531, 'PER'), (9823, 9828, 'LOC'), (9979, 9988, 'PER'), (10015, 10020, 'PER'), (10117, 10133, 'MISC'), (10408, 10413, 'LOC'), (10420, 10429, 'PER'), (10432, 10437, 'PER'), (10591, 10596, 'LOC'), (10666, 10673, 'LOC'), (10720, 10729, 'PER'), (11324, 11328, 'LOC'), (11332, 11337, 'PER'), (11480, 11495, 'MISC'), (11543, 11552, 'PER'), (11884, 11894, 'MISC'), (12250, 12257, 'MISC'), (12264, 12270, 'MISC'), (13103, 13109, 'LOC'), (13169, 13191, 'LOC'), (13442, 13458, 'MISC'), (13687, 13696, 'PER'), (13737, 13742, 'PER'), (14107, 14116, 'PER'), (14325, 14330, 'PER'), (15362, 15371, 'PER'), (15584, 15593, 'PER'), (15747, 15752, 'PER'), (15788, 15801, 'PER'), (15884, 15889, 'PER'), (15891, 15897, 'PER'), (15983, 15988, 'LOC'), (16206, 16215, 'PER'), (16236, 16254, 'PER'), (16459, 16469, 'LOC'), (16551, 16560, 'PER'), (16632, 16637, 'PER'), (17338, 17347, 'PER'), (17359, 17372, 'PER'), (17376, 17394, 'PER'), (17435, 17448, 'PER')]}\n"
          ]
        }
      ]
    },
    {
      "cell_type": "markdown",
      "source": [
        "**5.  Initialisation du modèle qui sera entrainé de manière incrémentale à partir du jeu d'entrainement** "
      ],
      "metadata": {
        "id": "t8qP3mCG5Oxl"
      }
    },
    {
      "cell_type": "code",
      "source": [
        "import spacy\n",
        "from spacy.tokens import DocBin\n",
        "from tqdm import tqdm\n",
        "\n",
        "nlp = spacy.blank(\"fr\") # load a new spacy model\n",
        "doc_bin = DocBin() # create a DocBin object\n"
      ],
      "metadata": {
        "id": "UeUIP1FWfJn0"
      },
      "execution_count": 23,
      "outputs": []
    },
    {
      "cell_type": "code",
      "source": [
        "from spacy.util import filter_spans\n",
        "\n",
        "for training_example  in tqdm(training_data['annotations']): \n",
        "    text = training_example['text']\n",
        "    labels = training_example['entities']\n",
        "    doc = nlp.make_doc(text) \n",
        "    ents = []\n",
        "    for start, end, label in labels:\n",
        "        span = doc.char_span(start, end, label=label, alignment_mode=\"contract\")\n",
        "        if span is None:\n",
        "            print(\"Skipping entity\")\n",
        "        else:\n",
        "            ents.append(span)\n",
        "    filtered_ents = filter_spans(ents)\n",
        "    doc.ents = filtered_ents \n",
        "    doc_bin.add(doc)\n",
        "\n",
        "doc_bin.to_disk(\"training_data.spacy\") # save the docbin object\n"
      ],
      "metadata": {
        "colab": {
          "base_uri": "https://localhost:8080/"
        },
        "id": "BVBN0pOofLib",
        "outputId": "05568923-8ab9-4dfc-db40-1e080646b9fc"
      },
      "execution_count": 24,
      "outputs": [
        {
          "output_type": "stream",
          "name": "stderr",
          "text": [
            "100%|██████████| 1/1 [00:00<00:00, 10.48it/s]\n"
          ]
        }
      ]
    },
    {
      "cell_type": "markdown",
      "source": [
        "Le fichier de configuration base_config_nermodel.cfg est à télécharger à partir d'ici : https://github.com/cvbrandoe/coursTAL/blob/master/2022/base_config_nermodel.cfg "
      ],
      "metadata": {
        "id": "XQxlbAKG5ty6"
      }
    },
    {
      "cell_type": "code",
      "source": [
        "from google.colab import files\n",
        "uploaded = files.upload()"
      ],
      "metadata": {
        "colab": {
          "resources": {
            "http://localhost:8080/nbextensions/google.colab/files.js": {
              "data": "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",
              "ok": true,
              "headers": [
                [
                  "content-type",
                  "application/javascript"
                ]
              ],
              "status": 200,
              "status_text": ""
            }
          },
          "base_uri": "https://localhost:8080/",
          "height": 73
        },
        "id": "AzziKWBBojHr",
        "outputId": "35fb8e0f-be6a-4536-9d54-bbf002173f9f"
      },
      "execution_count": 25,
      "outputs": [
        {
          "output_type": "display_data",
          "data": {
            "text/html": [
              "\n",
              "     <input type=\"file\" id=\"files-d8392723-b2bb-4a9e-8326-42590b4c9b09\" name=\"files[]\" multiple disabled\n",
              "        style=\"border:none\" />\n",
              "     <output id=\"result-d8392723-b2bb-4a9e-8326-42590b4c9b09\">\n",
              "      Upload widget is only available when the cell has been executed in the\n",
              "      current browser session. Please rerun this cell to enable.\n",
              "      </output>\n",
              "      <script src=\"/nbextensions/google.colab/files.js\"></script> "
            ],
            "text/plain": [
              "<IPython.core.display.HTML object>"
            ]
          },
          "metadata": {}
        },
        {
          "output_type": "stream",
          "name": "stdout",
          "text": [
            "Saving base_config_nermodel.cfg to base_config_nermodel.cfg\n"
          ]
        }
      ]
    },
    {
      "cell_type": "markdown",
      "source": [
        "**6.  Initialisation de l'entrainement avec les paramètres définis (hyperparamètres) dans le fichier .cfg et entrainement par le biais du CLI de Spacy**"
      ],
      "metadata": {
        "id": "c8mDruj055Ls"
      }
    },
    {
      "cell_type": "code",
      "source": [
        "!python -m spacy init fill-config base_config_nermodel.cfg config.cfg"
      ],
      "metadata": {
        "colab": {
          "base_uri": "https://localhost:8080/"
        },
        "id": "meQgWoDZoqVr",
        "outputId": "162f4933-61a4-4190-8c07-fbd272a92d88"
      },
      "execution_count": 26,
      "outputs": [
        {
          "output_type": "stream",
          "name": "stdout",
          "text": [
            "\u001b[38;5;2m✔ Auto-filled config with all values\u001b[0m\n",
            "\u001b[38;5;2m✔ Saved config\u001b[0m\n",
            "config.cfg\n",
            "You can now add your data and train your pipeline:\n",
            "python -m spacy train config.cfg --paths.train ./train.spacy --paths.dev ./dev.spacy\n"
          ]
        }
      ]
    },
    {
      "cell_type": "code",
      "source": [
        "!python -m spacy train config.cfg --paths.train ./training_data.spacy --paths.dev ./training_data.spacy --output ./\n"
      ],
      "metadata": {
        "colab": {
          "base_uri": "https://localhost:8080/"
        },
        "id": "LYAMJPjdowPW",
        "outputId": "d423d829-2393-48e9-cee5-0a63685cc256"
      },
      "execution_count": 27,
      "outputs": [
        {
          "output_type": "stream",
          "name": "stdout",
          "text": [
            "\u001b[38;5;4mℹ Saving to output directory: .\u001b[0m\n",
            "\u001b[38;5;4mℹ Using CPU\u001b[0m\n",
            "\u001b[1m\n",
            "=========================== Initializing pipeline ===========================\u001b[0m\n",
            "[2022-02-23 10:26:47,623] [INFO] Set up nlp object from config\n",
            "[2022-02-23 10:26:47,636] [INFO] Pipeline: ['tok2vec', 'ner', 'parser']\n",
            "[2022-02-23 10:26:47,636] [INFO] Resuming training for: ['ner']\n",
            "[2022-02-23 10:26:47,649] [INFO] Created vocabulary\n",
            "[2022-02-23 10:26:47,650] [INFO] Finished initializing nlp object\n",
            "[2022-02-23 10:26:48,863] [INFO] Initialized pipeline components: ['tok2vec', 'parser']\n",
            "\u001b[38;5;2m✔ Initialized pipeline\u001b[0m\n",
            "\u001b[1m\n",
            "============================= Training pipeline =============================\u001b[0m\n",
            "\u001b[38;5;4mℹ Pipeline: ['tok2vec', 'ner', 'parser']\u001b[0m\n",
            "\u001b[38;5;4mℹ Initial learn rate: 0.001\u001b[0m\n",
            "E    #       LOSS TOK2VEC  LOSS NER  LOSS PARSER  ENTS_F  ENTS_P  ENTS_R  DEP_UAS  DEP_LAS  SENTS_F  SCORE \n",
            "---  ------  ------------  --------  -----------  ------  ------  ------  -------  -------  -------  ------\n",
            "  0       0          0.00    164.14         0.00   63.51   61.84   65.28     0.00     0.00     0.00    0.32\n",
            "200     200          0.00    400.69         0.00  100.00  100.00  100.00     0.00     0.00     0.00    0.50\n",
            "400     400          0.00      0.00         0.00  100.00  100.00  100.00     0.00     0.00     0.00    0.50\n",
            "600     600          0.00      0.00         0.00  100.00  100.00  100.00     0.00     0.00     0.00    0.50\n",
            "800     800          0.00      0.00         0.00  100.00  100.00  100.00     0.00     0.00     0.00    0.50\n",
            "1000    1000          0.00      0.00         0.00  100.00  100.00  100.00     0.00     0.00     0.00    0.50\n",
            "1200    1200          0.00      0.00         0.00  100.00  100.00  100.00     0.00     0.00     0.00    0.50\n",
            "1400    1400          0.00      0.00         0.00  100.00  100.00  100.00     0.00     0.00     0.00    0.50\n",
            "1600    1600          0.00      0.00         0.00  100.00  100.00  100.00     0.00     0.00     0.00    0.50\n",
            "1800    1800          0.00      0.00         0.00  100.00  100.00  100.00     0.00     0.00     0.00    0.50\n",
            "\u001b[38;5;2m✔ Saved pipeline to output directory\u001b[0m\n",
            "model-last\n"
          ]
        }
      ]
    },
    {
      "cell_type": "markdown",
      "source": [
        "Télécharger l'autre extrait de Bel Ami pour tester le modèle à partir de : https://github.com/cvbrandoe/coursTAL/blob/master/2022/belAmi_01-05.txt"
      ],
      "metadata": {
        "id": "OKvpvkd_CFu3"
      }
    },
    {
      "cell_type": "code",
      "source": [
        "from google.colab import files\n",
        "uploaded = files.upload()"
      ],
      "metadata": {
        "colab": {
          "resources": {
            "http://localhost:8080/nbextensions/google.colab/files.js": {
              "data": "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",
              "ok": true,
              "headers": [
                [
                  "content-type",
                  "application/javascript"
                ]
              ],
              "status": 200,
              "status_text": ""
            }
          },
          "base_uri": "https://localhost:8080/",
          "height": 73
        },
        "id": "9-DUygN5zJea",
        "outputId": "3e0589f7-ef26-40ba-86ee-86075b8013d6"
      },
      "execution_count": 28,
      "outputs": [
        {
          "output_type": "display_data",
          "data": {
            "text/html": [
              "\n",
              "     <input type=\"file\" id=\"files-7ca3fbe5-4450-4be7-83d5-429c180f2ced\" name=\"files[]\" multiple disabled\n",
              "        style=\"border:none\" />\n",
              "     <output id=\"result-7ca3fbe5-4450-4be7-83d5-429c180f2ced\">\n",
              "      Upload widget is only available when the cell has been executed in the\n",
              "      current browser session. Please rerun this cell to enable.\n",
              "      </output>\n",
              "      <script src=\"/nbextensions/google.colab/files.js\"></script> "
            ],
            "text/plain": [
              "<IPython.core.display.HTML object>"
            ]
          },
          "metadata": {}
        },
        {
          "output_type": "stream",
          "name": "stdout",
          "text": [
            "Saving belAmi_01-05.txt to belAmi_01-05.txt\n"
          ]
        }
      ]
    },
    {
      "cell_type": "markdown",
      "source": [
        "**7. Test du nouveau modèle sur un autre extrait de \"Bel Ami\" de Maupassant**"
      ],
      "metadata": {
        "id": "xC6yamR4I8Av"
      }
    },
    {
      "cell_type": "code",
      "source": [
        "nlp_ner = spacy.load(\"model-best\")\n",
        "\n",
        "test_dataset = open(\"belAmi_01-05.txt\").read().replace(\"’\",\"'\")\n",
        "doc = nlp_ner(test_dataset)\n",
        "\n",
        "colors = {\"PER\": \"#F67DE3\", \"LOC\": \"#7DF6D9\", \"MISC\" : \"#FFFFFF\"}\n",
        "options = {\"colors\": colors} \n",
        "\n",
        "show_ents(doc)\n",
        "\n",
        "#spacy.displacy.render(doc, style=\"ent\", options= options, jupyter=True)"
      ],
      "metadata": {
        "colab": {
          "base_uri": "https://localhost:8080/"
        },
        "id": "WIboT-raIcVn",
        "outputId": "e5ee4c04-0851-4531-e40a-ba3c48a70403"
      },
      "execution_count": 29,
      "outputs": [
        {
          "output_type": "stream",
          "name": "stdout",
          "text": [
            "Duroy - 85 - 90 - PER - Named person or family.\n",
            "\n",
            "\n",
            "Forestier - 474 - 483 - PER - Named person or family.\n",
            "\n",
            "\n",
            "Duroy - 660 - 665 - PER - Named person or family.\n",
            "\n",
            "\n",
            "l'Algérie - 849 - 858 - LOC - Non-GPE locations, mountain ranges, bodies of water\n",
            "\n",
            "\n",
            "Bois - 1096 - 1100 - LOC - Non-GPE locations, mountain ranges, bodies of water\n",
            "\n",
            "\n",
            "Mme Forestier - 1730 - 1743 - PER - Named person or family.\n",
            "\n",
            "\n",
            "Mme de Marelle - 1899 - 1913 - PER - Named person or family.\n",
            "\n",
            "\n",
            "rue de Verneuil - 2160 - 2175 - LOC - Non-GPE locations, mountain ranges, bodies of water\n",
            "\n",
            "\n",
            "Duroy - 2425 - 2430 - PER - Named person or family.\n",
            "\n",
            "\n",
            "Duroy - 3037 - 3042 - PER - Named person or family.\n",
            "\n",
            "\n",
            "Mme de Marelle - 3115 - 3129 - PER - Named person or family.\n",
            "\n",
            "\n",
            "Duroy - 3465 - 3470 - PER - Named person or family.\n",
            "\n",
            "\n",
            "Norbert de Varenne - 3589 - 3607 - PER - Named person or family.\n",
            "\n",
            "\n",
            "Paris - 3733 - 3738 - LOC - Non-GPE locations, mountain ranges, bodies of water\n",
            "\n",
            "\n",
            "Mme Forestier - 4599 - 4612 - PER - Named person or family.\n",
            "\n",
            "\n",
            "Mme de Marelle - 5018 - 5032 - PER - Named person or family.\n",
            "\n",
            "\n",
            "Duroy - 5725 - 5730 - PER - Named person or family.\n",
            "\n",
            "\n",
            "Mme de Marelle - 6188 - 6202 - PER - Named person or family.\n",
            "\n",
            "\n",
            "Forestier - 6316 - 6325 - PER - Named person or family.\n",
            "\n",
            "\n",
            "Forestier - 6527 - 6536 - PER - Named person or family.\n",
            "\n",
            "\n",
            "Laurine - 7189 - 7196 - LOC - Non-GPE locations, mountain ranges, bodies of water\n",
            "\n",
            "\n",
            "Duroy - 7415 - 7420 - PER - Named person or family.\n",
            "\n",
            "\n",
            "Mme de Marelle - 9254 - 9268 - PER - Named person or family.\n",
            "\n",
            "\n",
            "Laurine - 9300 - 9307 - LOC - Non-GPE locations, mountain ranges, bodies of water\n",
            "\n",
            "\n",
            "Laurine - 9488 - 9495 - LOC - Non-GPE locations, mountain ranges, bodies of water\n",
            "\n",
            "\n",
            "Mme de Marelle - 9677 - 9691 - PER - Named person or family.\n",
            "\n",
            "\n",
            "Forestier - 9826 - 9835 - PER - Named person or family.\n",
            "\n",
            "\n",
            "Café Riche - 10397 - 10407 - LOC - Non-GPE locations, mountain ranges, bodies of water\n",
            "\n",
            "\n",
            "Duroy - 10793 - 10798 - PER - Named person or family.\n",
            "\n",
            "\n",
            "Duroy - 12074 - 12079 - PER - Named person or family.\n",
            "\n",
            "\n",
            "Forestier - 12627 - 12636 - PER - Named person or family.\n",
            "\n",
            "\n",
            "Vie Française - 12749 - 12762 - MISC - Miscellaneous entities, e.g. events, nationalities, products or works of art\n",
            "\n",
            "\n",
            "Duroy - 13456 - 13461 - PER - Named person or family.\n",
            "\n",
            "\n",
            "Mme Forestier - 13470 - 13483 - PER - Named person or family.\n",
            "\n",
            "\n",
            "Mme de Marelle - 13617 - 13631 - PER - Named person or family.\n",
            "\n",
            "\n",
            "Forestier - 13727 - 13736 - PER - Named person or family.\n",
            "\n",
            "\n",
            "Mme de Marelle - 13756 - 13770 - PER - Named person or family.\n",
            "\n",
            "\n",
            "Forestier - 14063 - 14072 - PER - Named person or family.\n",
            "\n",
            "\n",
            "Ostende - 14565 - 14572 - LOC - Non-GPE locations, mountain ranges, bodies of water\n",
            "\n",
            "\n",
            "Forestier - 15042 - 15051 - PER - Named person or family.\n",
            "\n",
            "\n",
            "Duroy - 15172 - 15177 - PER - Named person or family.\n",
            "\n",
            "\n",
            "Parisienne - 16255 - 16265 - LOC - Non-GPE locations, mountain ranges, bodies of water\n",
            "\n",
            "\n",
            "Forestier - 16329 - 16338 - PER - Named person or family.\n",
            "\n",
            "\n",
            "Duroy - 16682 - 16687 - PER - Named person or family.\n",
            "\n",
            "\n",
            "Mme de Marelle - 16971 - 16985 - PER - Named person or family.\n",
            "\n",
            "\n",
            "Mme Forestier - 17100 - 17113 - PER - Named person or family.\n",
            "\n",
            "\n"
          ]
        }
      ]
    },
    {
      "cell_type": "markdown",
      "source": [
        "**A titre de comparaison, test avec ce même texte mais à partir du modèle de base fourni par Spacy, fr_core_news_sm.**"
      ],
      "metadata": {
        "id": "J__jlCB0JEh1"
      }
    },
    {
      "cell_type": "code",
      "source": [
        "pipeline = 'fr_core_news_sm' \n",
        "nlp = spacy.load(pipeline)\n",
        "doc = nlp(test_dataset)\n",
        "show_ents(doc)"
      ],
      "metadata": {
        "colab": {
          "base_uri": "https://localhost:8080/"
        },
        "id": "tco1K5ndJUF9",
        "outputId": "2f9185cb-3d8a-4870-a5c2-ad7eb651641e"
      },
      "execution_count": 30,
      "outputs": [
        {
          "output_type": "stream",
          "name": "stdout",
          "text": [
            "V\n",
            "\n",
            "\n",
            "\n",
            " - 0 - 5 - PER - Named person or family.\n",
            "\n",
            "\n",
            "Duroy - 85 - 90 - MISC - Miscellaneous entities, e.g. events, nationalities, products or works of art\n",
            "\n",
            "\n",
            "Forestier - 474 - 483 - PER - Named person or family.\n",
            "\n",
            "\n",
            "Duroy - 660 - 665 - LOC - Non-GPE locations, mountain ranges, bodies of water\n",
            "\n",
            "\n",
            "l'Algérie - 849 - 858 - LOC - Non-GPE locations, mountain ranges, bodies of water\n",
            "\n",
            "\n",
            "Bois - 1096 - 1100 - LOC - Non-GPE locations, mountain ranges, bodies of water\n",
            "\n",
            "\n",
            "Mme Forestier - 1730 - 1743 - PER - Named person or family.\n",
            "\n",
            "\n",
            "Mme de Marelle - 1899 - 1913 - PER - Named person or family.\n",
            "\n",
            "\n",
            "rue de Verneuil - 2160 - 2175 - LOC - Non-GPE locations, mountain ranges, bodies of water\n",
            "\n",
            "\n",
            "madame - 2310 - 2316 - PER - Named person or family.\n",
            "\n",
            "\n",
            "Mme de Marelle - 3115 - 3129 - PER - Named person or family.\n",
            "\n",
            "\n",
            "Duroy - 3465 - 3470 - LOC - Non-GPE locations, mountain ranges, bodies of water\n",
            "\n",
            "\n",
            "Norbert de Varenne - 3589 - 3607 - PER - Named person or family.\n",
            "\n",
            "\n",
            "Paris - 3733 - 3738 - LOC - Non-GPE locations, mountain ranges, bodies of water\n",
            "\n",
            "\n",
            "Allons, racontez-moi les nouvelles - 3758 - 3792 - MISC - Miscellaneous entities, e.g. events, nationalities, products or works of art\n",
            "\n",
            "\n",
            "Mais - 4324 - 4328 - MISC - Miscellaneous entities, e.g. events, nationalities, products or works of art\n",
            "\n",
            "\n",
            "Mme Forestier - 4599 - 4612 - PER - Named person or family.\n",
            "\n",
            "\n",
            "Mme de Marelle - 5018 - 5032 - PER - Named person or family.\n",
            "\n",
            "\n",
            "»\n",
            "\n",
            "Mais on frappa - 5557 - 5574 - LOC - Non-GPE locations, mountain ranges, bodies of water\n",
            "\n",
            "\n",
            "Duroy - 5725 - 5730 - LOC - Non-GPE locations, mountain ranges, bodies of water\n",
            "\n",
            "\n",
            "Venez - 6165 - 6170 - LOC - Non-GPE locations, mountain ranges, bodies of water\n",
            "\n",
            "\n",
            "Mme de Marelle - 6188 - 6202 - PER - Named person or family.\n",
            "\n",
            "\n",
            "Forestier ? - 6316 - 6327 - MISC - Miscellaneous entities, e.g. events, nationalities, products or works of art\n",
            "\n",
            "\n",
            "Forestier - 6527 - 6536 - PER - Named person or family.\n",
            "\n",
            "\n",
            "Laurine - 7189 - 7196 - LOC - Non-GPE locations, mountain ranges, bodies of water\n",
            "\n",
            "\n",
            "Maman - 7272 - 7277 - PER - Named person or family.\n",
            "\n",
            "\n",
            "mademoiselle - 7506 - 7518 - LOC - Non-GPE locations, mountain ranges, bodies of water\n",
            "\n",
            "\n",
            "Allons - 7979 - 7985 - LOC - Non-GPE locations, mountain ranges, bodies of water\n",
            "\n",
            "\n",
            "attrapez-moi. - 7987 - 8000 - LOC - Non-GPE locations, mountain ranges, bodies of water\n",
            "\n",
            "\n",
            "Laurine - 8793 - 8800 - LOC - Non-GPE locations, mountain ranges, bodies of water\n",
            "\n",
            "\n",
            "Mme de Marelle - 9254 - 9268 - PER - Named person or family.\n",
            "\n",
            "\n",
            "Laurine - 9309 - 9316 - LOC - Non-GPE locations, mountain ranges, bodies of water\n",
            "\n",
            "\n",
            "Laurine - 9488 - 9495 - LOC - Non-GPE locations, mountain ranges, bodies of water\n",
            "\n",
            "\n",
            "Mme de Marelle - 9677 - 9691 - PER - Named person or family.\n",
            "\n",
            "\n",
            "les Forestier - 9822 - 9835 - LOC - Non-GPE locations, mountain ranges, bodies of water\n",
            "\n",
            "\n",
            "Café Riche - 10397 - 10407 - LOC - Non-GPE locations, mountain ranges, bodies of water\n",
            "\n",
            "\n",
            "Duroy - 10793 - 10798 - MISC - Miscellaneous entities, e.g. events, nationalities, products or works of art\n",
            "\n",
            "\n",
            "fenêtre. - 11679 - 11687 - MISC - Miscellaneous entities, e.g. events, nationalities, products or works of art\n",
            "\n",
            "\n",
            "Forestier - 12627 - 12636 - PER - Named person or family.\n",
            "\n",
            "\n",
            "Vie Française - 12749 - 12762 - LOC - Non-GPE locations, mountain ranges, bodies of water\n",
            "\n",
            "\n",
            "voilées - 13297 - 13304 - LOC - Non-GPE locations, mountain ranges, bodies of water\n",
            "\n",
            "\n",
            "Duroy - 13456 - 13461 - MISC - Miscellaneous entities, e.g. events, nationalities, products or works of art\n",
            "\n",
            "\n",
            "Mme Forestier - 13470 - 13483 - PER - Named person or family.\n",
            "\n",
            "\n",
            "Mme de Marelle - 13617 - 13631 - PER - Named person or family.\n",
            "\n",
            "\n",
            "Forestier - 13727 - 13736 - PER - Named person or family.\n",
            "\n",
            "\n",
            "Mme de Marelle - 13756 - 13770 - PER - Named person or family.\n",
            "\n",
            "\n",
            "Donnez - 13784 - 13790 - LOC - Non-GPE locations, mountain ranges, bodies of water\n",
            "\n",
            "\n",
            "Ostende - 14565 - 14572 - LOC - Non-GPE locations, mountain ranges, bodies of water\n",
            "\n",
            "\n",
            "Duroy - 15172 - 15177 - MISC - Miscellaneous entities, e.g. events, nationalities, products or works of art\n",
            "\n",
            "\n",
            "Combien - 15640 - 15647 - PER - Named person or family.\n",
            "\n",
            "\n",
            "Parisienne - 16255 - 16265 - LOC - Non-GPE locations, mountain ranges, bodies of water\n",
            "\n",
            "\n",
            "Sacristi - 16529 - 16537 - PER - Named person or family.\n",
            "\n",
            "\n",
            "maris ! - 16617 - 16624 - MISC - Miscellaneous entities, e.g. events, nationalities, products or works of art\n",
            "\n",
            "\n",
            "Duroy - 16682 - 16687 - MISC - Miscellaneous entities, e.g. events, nationalities, products or works of art\n",
            "\n",
            "\n",
            "Mme de Marelle - 16971 - 16985 - PER - Named person or family.\n",
            "\n",
            "\n",
            "Mme Forestier - 17100 - 17113 - PER - Named person or family.\n",
            "\n",
            "\n"
          ]
        }
      ]
    },
    {
      "cell_type": "markdown",
      "source": [
        "Remarque 1. lors de la mise à jour du modèle NER (idem pour d'autres couches comme POS) avec les annotations de l'utilisateur, un processus itératif se met en place afin de faire converger les prédictions faites (des poids) vers des valeurs optimales vis-à-vis des annotations de référence. A caque itération, on calcule le \"gradient\" qui correspond, en optimisation, aux dérivées partielles de la fonction de classification non linéaire recherchée (voir [1], vous trouverez aussi la notion de backpropagation clé dans ces approches de DL pour le TAL). Pour observer la manière dont la valeur du gradient évolue (et se stabilise) lors des itérations, il est conseillé de regarder le paramètre \"losses\" mis à jour par la méthode update(..., losses=losses).\n",
        "[1]: https://web.stanford.edu/class/archive/cs/cs224n/cs224n.1162/handouts/CS224N_DeepNLP_Week7_lecture3.pdf \n",
        "Aussi : https://spacy.io/usage/training\n",
        "\n",
        "Remarque 2. Pour éviter le surapprentissage (overfitting) d'un modèle : vous pouvez identifier que votre modèle n'est pas bon lorsqu'il fonctionne bien sur les données d'entraînement mais ne donne pas de bons résultats sur des données nouvelles et non encore vues. Autrement dit, le modèle \"mémorise\" les données d'apprentissage et n'est pas performant avec les nouvelles données."
      ],
      "metadata": {
        "id": "2A40a-xmOa9J"
      }
    }
  ]
}